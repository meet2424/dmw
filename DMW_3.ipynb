{
  "cells": [
    {
      "cell_type": "code",
      "execution_count": 1,
      "metadata": {
        "colab": {
          "base_uri": "https://localhost:8080/"
        },
        "id": "0pJ0ciW5jf88",
        "outputId": "79103f6d-43e3-44fa-ffc0-dee7648d51dc"
      },
      "outputs": [
        {
          "name": "stdout",
          "output_type": "stream",
          "text": [
            "5\n"
          ]
        }
      ],
      "source": [
        "# from google.colab import drive\n",
        "# drive.mount('/content/drive')\n",
        "print(\"5\")"
      ]
    },
    {
      "cell_type": "code",
      "execution_count": 2,
      "metadata": {
        "id": "k0mfsQYQnh3F"
      },
      "outputs": [],
      "source": [
        "import numpy as np\n",
        "import pandas as pd\n",
        "import matplotlib.pyplot as plt\n",
        "import seaborn as sns\n",
        "from tabulate import tabulate\n",
        "from sklearn.model_selection import train_test_split, KFold\n",
        "from sklearn.metrics import accuracy_score\n",
        "from sklearn.preprocessing import LabelEncoder, OneHotEncoder\n",
        "from sklearn.naive_bayes import GaussianNB\n",
        "from sklearn.ensemble import BaggingClassifier, AdaBoostClassifier, RandomForestClassifier\n",
        "from sklearn import metrics\n",
        "from sklearn import tree"
      ]
    },
    {
      "cell_type": "code",
      "execution_count": 3,
      "metadata": {
        "id": "sfgn3XepDZE9"
      },
      "outputs": [],
      "source": [
        "dataset, gnb_acc, tree_acc =[], [], []"
      ]
    },
    {
      "cell_type": "markdown",
      "metadata": {
        "id": "4svnV2BNbZJn"
      },
      "source": [
        "# Iris Dataset"
      ]
    },
    {
      "cell_type": "markdown",
      "metadata": {
        "id": "Io0-v35IaO-X"
      },
      "source": [
        "### Pre-processing"
      ]
    },
    {
      "cell_type": "code",
      "execution_count": 4,
      "metadata": {
        "id": "KnywnuvBEJYU"
      },
      "outputs": [],
      "source": [
        "dataset.append('Iris')"
      ]
    },
    {
      "cell_type": "code",
      "execution_count": 6,
      "metadata": {
        "colab": {
          "base_uri": "https://localhost:8080/",
          "height": 328
        },
        "id": "_zZBOvg9m1Wb",
        "outputId": "94d7d0bd-0e16-4ba6-b716-2dd36d798bda"
      },
      "outputs": [],
      "source": [
        "df = pd.read_csv('datasets\\Iris.csv')"
      ]
    },
    {
      "cell_type": "code",
      "execution_count": 15,
      "metadata": {
        "colab": {
          "base_uri": "https://localhost:8080/",
          "height": 165
        },
        "id": "UNRPi77Mm1gK",
        "outputId": "3657bef4-d879-4ef0-cebd-bfae012123fd"
      },
      "outputs": [
        {
          "data": {
            "text/html": [
              "<div>\n",
              "<style scoped>\n",
              "    .dataframe tbody tr th:only-of-type {\n",
              "        vertical-align: middle;\n",
              "    }\n",
              "\n",
              "    .dataframe tbody tr th {\n",
              "        vertical-align: top;\n",
              "    }\n",
              "\n",
              "    .dataframe thead th {\n",
              "        text-align: right;\n",
              "    }\n",
              "</style>\n",
              "<table border=\"1\" class=\"dataframe\">\n",
              "  <thead>\n",
              "    <tr style=\"text-align: right;\">\n",
              "      <th></th>\n",
              "      <th>Id</th>\n",
              "      <th>SepalLengthCm</th>\n",
              "      <th>SepalWidthCm</th>\n",
              "      <th>PetalLengthCm</th>\n",
              "      <th>PetalWidthCm</th>\n",
              "      <th>Species</th>\n",
              "    </tr>\n",
              "  </thead>\n",
              "  <tbody>\n",
              "    <tr>\n",
              "      <th>0</th>\n",
              "      <td>1</td>\n",
              "      <td>5.1</td>\n",
              "      <td>3.5</td>\n",
              "      <td>1.4</td>\n",
              "      <td>0.2</td>\n",
              "      <td>Iris-setosa</td>\n",
              "    </tr>\n",
              "    <tr>\n",
              "      <th>1</th>\n",
              "      <td>2</td>\n",
              "      <td>4.9</td>\n",
              "      <td>3.0</td>\n",
              "      <td>1.4</td>\n",
              "      <td>0.2</td>\n",
              "      <td>Iris-setosa</td>\n",
              "    </tr>\n",
              "    <tr>\n",
              "      <th>2</th>\n",
              "      <td>3</td>\n",
              "      <td>4.7</td>\n",
              "      <td>3.2</td>\n",
              "      <td>1.3</td>\n",
              "      <td>0.2</td>\n",
              "      <td>Iris-setosa</td>\n",
              "    </tr>\n",
              "    <tr>\n",
              "      <th>3</th>\n",
              "      <td>4</td>\n",
              "      <td>4.6</td>\n",
              "      <td>3.1</td>\n",
              "      <td>1.5</td>\n",
              "      <td>0.2</td>\n",
              "      <td>Iris-setosa</td>\n",
              "    </tr>\n",
              "    <tr>\n",
              "      <th>4</th>\n",
              "      <td>5</td>\n",
              "      <td>5.0</td>\n",
              "      <td>3.6</td>\n",
              "      <td>1.4</td>\n",
              "      <td>0.2</td>\n",
              "      <td>Iris-setosa</td>\n",
              "    </tr>\n",
              "    <tr>\n",
              "      <th>...</th>\n",
              "      <td>...</td>\n",
              "      <td>...</td>\n",
              "      <td>...</td>\n",
              "      <td>...</td>\n",
              "      <td>...</td>\n",
              "      <td>...</td>\n",
              "    </tr>\n",
              "    <tr>\n",
              "      <th>145</th>\n",
              "      <td>146</td>\n",
              "      <td>6.7</td>\n",
              "      <td>3.0</td>\n",
              "      <td>5.2</td>\n",
              "      <td>2.3</td>\n",
              "      <td>Iris-virginica</td>\n",
              "    </tr>\n",
              "    <tr>\n",
              "      <th>146</th>\n",
              "      <td>147</td>\n",
              "      <td>6.3</td>\n",
              "      <td>2.5</td>\n",
              "      <td>5.0</td>\n",
              "      <td>1.9</td>\n",
              "      <td>Iris-virginica</td>\n",
              "    </tr>\n",
              "    <tr>\n",
              "      <th>147</th>\n",
              "      <td>148</td>\n",
              "      <td>6.5</td>\n",
              "      <td>3.0</td>\n",
              "      <td>5.2</td>\n",
              "      <td>2.0</td>\n",
              "      <td>Iris-virginica</td>\n",
              "    </tr>\n",
              "    <tr>\n",
              "      <th>148</th>\n",
              "      <td>149</td>\n",
              "      <td>6.2</td>\n",
              "      <td>3.4</td>\n",
              "      <td>5.4</td>\n",
              "      <td>2.3</td>\n",
              "      <td>Iris-virginica</td>\n",
              "    </tr>\n",
              "    <tr>\n",
              "      <th>149</th>\n",
              "      <td>150</td>\n",
              "      <td>5.9</td>\n",
              "      <td>3.0</td>\n",
              "      <td>5.1</td>\n",
              "      <td>1.8</td>\n",
              "      <td>Iris-virginica</td>\n",
              "    </tr>\n",
              "  </tbody>\n",
              "</table>\n",
              "<p>150 rows × 6 columns</p>\n",
              "</div>"
            ],
            "text/plain": [
              "      Id  SepalLengthCm  SepalWidthCm  PetalLengthCm  PetalWidthCm  \\\n",
              "0      1            5.1           3.5            1.4           0.2   \n",
              "1      2            4.9           3.0            1.4           0.2   \n",
              "2      3            4.7           3.2            1.3           0.2   \n",
              "3      4            4.6           3.1            1.5           0.2   \n",
              "4      5            5.0           3.6            1.4           0.2   \n",
              "..   ...            ...           ...            ...           ...   \n",
              "145  146            6.7           3.0            5.2           2.3   \n",
              "146  147            6.3           2.5            5.0           1.9   \n",
              "147  148            6.5           3.0            5.2           2.0   \n",
              "148  149            6.2           3.4            5.4           2.3   \n",
              "149  150            5.9           3.0            5.1           1.8   \n",
              "\n",
              "            Species  \n",
              "0       Iris-setosa  \n",
              "1       Iris-setosa  \n",
              "2       Iris-setosa  \n",
              "3       Iris-setosa  \n",
              "4       Iris-setosa  \n",
              "..              ...  \n",
              "145  Iris-virginica  \n",
              "146  Iris-virginica  \n",
              "147  Iris-virginica  \n",
              "148  Iris-virginica  \n",
              "149  Iris-virginica  \n",
              "\n",
              "[150 rows x 6 columns]"
            ]
          },
          "execution_count": 15,
          "metadata": {},
          "output_type": "execute_result"
        }
      ],
      "source": [
        "df.head(200)"
      ]
    },
    {
      "cell_type": "code",
      "execution_count": 8,
      "metadata": {
        "colab": {
          "base_uri": "https://localhost:8080/",
          "height": 165
        },
        "id": "6SfJDNz8m1nV",
        "outputId": "e65a3fba-bf0f-4640-9e06-fc4fc745a38b"
      },
      "outputs": [
        {
          "data": {
            "text/plain": [
              "900"
            ]
          },
          "execution_count": 8,
          "metadata": {},
          "output_type": "execute_result"
        }
      ],
      "source": [
        "df.size"
      ]
    },
    {
      "cell_type": "code",
      "execution_count": 9,
      "metadata": {
        "id": "_2NEYiuKm1tl"
      },
      "outputs": [
        {
          "data": {
            "text/plain": [
              "(150, 6)"
            ]
          },
          "execution_count": 9,
          "metadata": {},
          "output_type": "execute_result"
        }
      ],
      "source": [
        "df.shape"
      ]
    },
    {
      "cell_type": "code",
      "execution_count": 10,
      "metadata": {
        "id": "cSGEXRkzqUKm"
      },
      "outputs": [
        {
          "data": {
            "text/html": [
              "<div>\n",
              "<style scoped>\n",
              "    .dataframe tbody tr th:only-of-type {\n",
              "        vertical-align: middle;\n",
              "    }\n",
              "\n",
              "    .dataframe tbody tr th {\n",
              "        vertical-align: top;\n",
              "    }\n",
              "\n",
              "    .dataframe thead th {\n",
              "        text-align: right;\n",
              "    }\n",
              "</style>\n",
              "<table border=\"1\" class=\"dataframe\">\n",
              "  <thead>\n",
              "    <tr style=\"text-align: right;\">\n",
              "      <th></th>\n",
              "      <th>Id</th>\n",
              "      <th>SepalLengthCm</th>\n",
              "      <th>SepalWidthCm</th>\n",
              "      <th>PetalLengthCm</th>\n",
              "      <th>PetalWidthCm</th>\n",
              "    </tr>\n",
              "  </thead>\n",
              "  <tbody>\n",
              "    <tr>\n",
              "      <th>count</th>\n",
              "      <td>150.000000</td>\n",
              "      <td>150.000000</td>\n",
              "      <td>150.000000</td>\n",
              "      <td>150.000000</td>\n",
              "      <td>150.000000</td>\n",
              "    </tr>\n",
              "    <tr>\n",
              "      <th>mean</th>\n",
              "      <td>75.500000</td>\n",
              "      <td>5.843333</td>\n",
              "      <td>3.054000</td>\n",
              "      <td>3.758667</td>\n",
              "      <td>1.198667</td>\n",
              "    </tr>\n",
              "    <tr>\n",
              "      <th>std</th>\n",
              "      <td>43.445368</td>\n",
              "      <td>0.828066</td>\n",
              "      <td>0.433594</td>\n",
              "      <td>1.764420</td>\n",
              "      <td>0.763161</td>\n",
              "    </tr>\n",
              "    <tr>\n",
              "      <th>min</th>\n",
              "      <td>1.000000</td>\n",
              "      <td>4.300000</td>\n",
              "      <td>2.000000</td>\n",
              "      <td>1.000000</td>\n",
              "      <td>0.100000</td>\n",
              "    </tr>\n",
              "    <tr>\n",
              "      <th>25%</th>\n",
              "      <td>38.250000</td>\n",
              "      <td>5.100000</td>\n",
              "      <td>2.800000</td>\n",
              "      <td>1.600000</td>\n",
              "      <td>0.300000</td>\n",
              "    </tr>\n",
              "    <tr>\n",
              "      <th>50%</th>\n",
              "      <td>75.500000</td>\n",
              "      <td>5.800000</td>\n",
              "      <td>3.000000</td>\n",
              "      <td>4.350000</td>\n",
              "      <td>1.300000</td>\n",
              "    </tr>\n",
              "    <tr>\n",
              "      <th>75%</th>\n",
              "      <td>112.750000</td>\n",
              "      <td>6.400000</td>\n",
              "      <td>3.300000</td>\n",
              "      <td>5.100000</td>\n",
              "      <td>1.800000</td>\n",
              "    </tr>\n",
              "    <tr>\n",
              "      <th>max</th>\n",
              "      <td>150.000000</td>\n",
              "      <td>7.900000</td>\n",
              "      <td>4.400000</td>\n",
              "      <td>6.900000</td>\n",
              "      <td>2.500000</td>\n",
              "    </tr>\n",
              "  </tbody>\n",
              "</table>\n",
              "</div>"
            ],
            "text/plain": [
              "               Id  SepalLengthCm  SepalWidthCm  PetalLengthCm  PetalWidthCm\n",
              "count  150.000000     150.000000    150.000000     150.000000    150.000000\n",
              "mean    75.500000       5.843333      3.054000       3.758667      1.198667\n",
              "std     43.445368       0.828066      0.433594       1.764420      0.763161\n",
              "min      1.000000       4.300000      2.000000       1.000000      0.100000\n",
              "25%     38.250000       5.100000      2.800000       1.600000      0.300000\n",
              "50%     75.500000       5.800000      3.000000       4.350000      1.300000\n",
              "75%    112.750000       6.400000      3.300000       5.100000      1.800000\n",
              "max    150.000000       7.900000      4.400000       6.900000      2.500000"
            ]
          },
          "execution_count": 10,
          "metadata": {},
          "output_type": "execute_result"
        }
      ],
      "source": [
        "df.describe()"
      ]
    },
    {
      "cell_type": "code",
      "execution_count": 11,
      "metadata": {
        "id": "AK0b10kkriS_"
      },
      "outputs": [
        {
          "name": "stdout",
          "output_type": "stream",
          "text": [
            "<class 'pandas.core.frame.DataFrame'>\n",
            "RangeIndex: 150 entries, 0 to 149\n",
            "Data columns (total 6 columns):\n",
            " #   Column         Non-Null Count  Dtype  \n",
            "---  ------         --------------  -----  \n",
            " 0   Id             150 non-null    int64  \n",
            " 1   SepalLengthCm  150 non-null    float64\n",
            " 2   SepalWidthCm   150 non-null    float64\n",
            " 3   PetalLengthCm  150 non-null    float64\n",
            " 4   PetalWidthCm   150 non-null    float64\n",
            " 5   Species        150 non-null    object \n",
            "dtypes: float64(4), int64(1), object(1)\n",
            "memory usage: 7.2+ KB\n"
          ]
        }
      ],
      "source": [
        "df.info()\n"
      ]
    },
    {
      "cell_type": "code",
      "execution_count": 12,
      "metadata": {
        "id": "1Tqle2zdrUI9"
      },
      "outputs": [
        {
          "name": "stdout",
          "output_type": "stream",
          "text": [
            "Id\n",
            "SepalLengthCm\n",
            "SepalWidthCm\n",
            "PetalLengthCm\n",
            "PetalWidthCm\n",
            "Species\n"
          ]
        }
      ],
      "source": [
        "for i in df.columns:\n",
        "  print(i)"
      ]
    },
    {
      "cell_type": "code",
      "execution_count": 16,
      "metadata": {
        "id": "lXj5znGOsPRw"
      },
      "outputs": [],
      "source": [
        "df.drop(columns = 'Id', inplace = True)"
      ]
    },
    {
      "cell_type": "code",
      "execution_count": 18,
      "metadata": {
        "id": "eJ_DnwdUyARI"
      },
      "outputs": [],
      "source": [
        "df.replace(to_replace = 'Iris-setosa', value = 0, inplace = True)\n",
        "df.replace(to_replace =  'Iris-versicolor', value = 1, inplace = True)\n",
        "df.replace(to_replace = 'Iris-virginica', value = 2, inplace = True)"
      ]
    },
    {
      "cell_type": "code",
      "execution_count": 19,
      "metadata": {
        "id": "4oRffDycttXb"
      },
      "outputs": [
        {
          "data": {
            "text/html": [
              "<div>\n",
              "<style scoped>\n",
              "    .dataframe tbody tr th:only-of-type {\n",
              "        vertical-align: middle;\n",
              "    }\n",
              "\n",
              "    .dataframe tbody tr th {\n",
              "        vertical-align: top;\n",
              "    }\n",
              "\n",
              "    .dataframe thead th {\n",
              "        text-align: right;\n",
              "    }\n",
              "</style>\n",
              "<table border=\"1\" class=\"dataframe\">\n",
              "  <thead>\n",
              "    <tr style=\"text-align: right;\">\n",
              "      <th></th>\n",
              "      <th>SepalLengthCm</th>\n",
              "      <th>SepalWidthCm</th>\n",
              "      <th>PetalLengthCm</th>\n",
              "      <th>PetalWidthCm</th>\n",
              "      <th>Species</th>\n",
              "    </tr>\n",
              "  </thead>\n",
              "  <tbody>\n",
              "    <tr>\n",
              "      <th>0</th>\n",
              "      <td>5.1</td>\n",
              "      <td>3.5</td>\n",
              "      <td>1.4</td>\n",
              "      <td>0.2</td>\n",
              "      <td>0</td>\n",
              "    </tr>\n",
              "    <tr>\n",
              "      <th>1</th>\n",
              "      <td>4.9</td>\n",
              "      <td>3.0</td>\n",
              "      <td>1.4</td>\n",
              "      <td>0.2</td>\n",
              "      <td>0</td>\n",
              "    </tr>\n",
              "    <tr>\n",
              "      <th>2</th>\n",
              "      <td>4.7</td>\n",
              "      <td>3.2</td>\n",
              "      <td>1.3</td>\n",
              "      <td>0.2</td>\n",
              "      <td>0</td>\n",
              "    </tr>\n",
              "    <tr>\n",
              "      <th>3</th>\n",
              "      <td>4.6</td>\n",
              "      <td>3.1</td>\n",
              "      <td>1.5</td>\n",
              "      <td>0.2</td>\n",
              "      <td>0</td>\n",
              "    </tr>\n",
              "    <tr>\n",
              "      <th>4</th>\n",
              "      <td>5.0</td>\n",
              "      <td>3.6</td>\n",
              "      <td>1.4</td>\n",
              "      <td>0.2</td>\n",
              "      <td>0</td>\n",
              "    </tr>\n",
              "  </tbody>\n",
              "</table>\n",
              "</div>"
            ],
            "text/plain": [
              "   SepalLengthCm  SepalWidthCm  PetalLengthCm  PetalWidthCm  Species\n",
              "0            5.1           3.5            1.4           0.2        0\n",
              "1            4.9           3.0            1.4           0.2        0\n",
              "2            4.7           3.2            1.3           0.2        0\n",
              "3            4.6           3.1            1.5           0.2        0\n",
              "4            5.0           3.6            1.4           0.2        0"
            ]
          },
          "execution_count": 19,
          "metadata": {},
          "output_type": "execute_result"
        }
      ],
      "source": [
        "df.head()"
      ]
    },
    {
      "cell_type": "code",
      "execution_count": 20,
      "metadata": {
        "colab": {
          "base_uri": "https://localhost:8080/",
          "height": 165
        },
        "id": "3n5PwCC3ydrK",
        "outputId": "8c2bf683-0747-410c-8c38-beda996d3e33"
      },
      "outputs": [
        {
          "data": {
            "text/html": [
              "<div>\n",
              "<style scoped>\n",
              "    .dataframe tbody tr th:only-of-type {\n",
              "        vertical-align: middle;\n",
              "    }\n",
              "\n",
              "    .dataframe tbody tr th {\n",
              "        vertical-align: top;\n",
              "    }\n",
              "\n",
              "    .dataframe thead th {\n",
              "        text-align: right;\n",
              "    }\n",
              "</style>\n",
              "<table border=\"1\" class=\"dataframe\">\n",
              "  <thead>\n",
              "    <tr style=\"text-align: right;\">\n",
              "      <th></th>\n",
              "      <th>SepalLengthCm</th>\n",
              "      <th>SepalWidthCm</th>\n",
              "      <th>PetalLengthCm</th>\n",
              "      <th>PetalWidthCm</th>\n",
              "      <th>Species</th>\n",
              "    </tr>\n",
              "  </thead>\n",
              "  <tbody>\n",
              "    <tr>\n",
              "      <th>145</th>\n",
              "      <td>6.7</td>\n",
              "      <td>3.0</td>\n",
              "      <td>5.2</td>\n",
              "      <td>2.3</td>\n",
              "      <td>2</td>\n",
              "    </tr>\n",
              "    <tr>\n",
              "      <th>146</th>\n",
              "      <td>6.3</td>\n",
              "      <td>2.5</td>\n",
              "      <td>5.0</td>\n",
              "      <td>1.9</td>\n",
              "      <td>2</td>\n",
              "    </tr>\n",
              "    <tr>\n",
              "      <th>147</th>\n",
              "      <td>6.5</td>\n",
              "      <td>3.0</td>\n",
              "      <td>5.2</td>\n",
              "      <td>2.0</td>\n",
              "      <td>2</td>\n",
              "    </tr>\n",
              "    <tr>\n",
              "      <th>148</th>\n",
              "      <td>6.2</td>\n",
              "      <td>3.4</td>\n",
              "      <td>5.4</td>\n",
              "      <td>2.3</td>\n",
              "      <td>2</td>\n",
              "    </tr>\n",
              "    <tr>\n",
              "      <th>149</th>\n",
              "      <td>5.9</td>\n",
              "      <td>3.0</td>\n",
              "      <td>5.1</td>\n",
              "      <td>1.8</td>\n",
              "      <td>2</td>\n",
              "    </tr>\n",
              "  </tbody>\n",
              "</table>\n",
              "</div>"
            ],
            "text/plain": [
              "     SepalLengthCm  SepalWidthCm  PetalLengthCm  PetalWidthCm  Species\n",
              "145            6.7           3.0            5.2           2.3        2\n",
              "146            6.3           2.5            5.0           1.9        2\n",
              "147            6.5           3.0            5.2           2.0        2\n",
              "148            6.2           3.4            5.4           2.3        2\n",
              "149            5.9           3.0            5.1           1.8        2"
            ]
          },
          "execution_count": 20,
          "metadata": {},
          "output_type": "execute_result"
        }
      ],
      "source": [
        "df.tail()"
      ]
    },
    {
      "cell_type": "code",
      "execution_count": 21,
      "metadata": {
        "colab": {
          "base_uri": "https://localhost:8080/",
          "height": 182
        },
        "id": "Hw23SG-HuvmQ",
        "outputId": "ba1b4350-1083-41f7-e38c-ae291d124ee3"
      },
      "outputs": [
        {
          "data": {
            "text/html": [
              "<div>\n",
              "<style scoped>\n",
              "    .dataframe tbody tr th:only-of-type {\n",
              "        vertical-align: middle;\n",
              "    }\n",
              "\n",
              "    .dataframe tbody tr th {\n",
              "        vertical-align: top;\n",
              "    }\n",
              "\n",
              "    .dataframe thead th {\n",
              "        text-align: right;\n",
              "    }\n",
              "</style>\n",
              "<table border=\"1\" class=\"dataframe\">\n",
              "  <thead>\n",
              "    <tr style=\"text-align: right;\">\n",
              "      <th></th>\n",
              "      <th>SepalLengthCm</th>\n",
              "      <th>SepalWidthCm</th>\n",
              "      <th>PetalLengthCm</th>\n",
              "      <th>PetalWidthCm</th>\n",
              "    </tr>\n",
              "  </thead>\n",
              "  <tbody>\n",
              "    <tr>\n",
              "      <th>0</th>\n",
              "      <td>5.1</td>\n",
              "      <td>3.5</td>\n",
              "      <td>1.4</td>\n",
              "      <td>0.2</td>\n",
              "    </tr>\n",
              "    <tr>\n",
              "      <th>1</th>\n",
              "      <td>4.9</td>\n",
              "      <td>3.0</td>\n",
              "      <td>1.4</td>\n",
              "      <td>0.2</td>\n",
              "    </tr>\n",
              "    <tr>\n",
              "      <th>2</th>\n",
              "      <td>4.7</td>\n",
              "      <td>3.2</td>\n",
              "      <td>1.3</td>\n",
              "      <td>0.2</td>\n",
              "    </tr>\n",
              "    <tr>\n",
              "      <th>3</th>\n",
              "      <td>4.6</td>\n",
              "      <td>3.1</td>\n",
              "      <td>1.5</td>\n",
              "      <td>0.2</td>\n",
              "    </tr>\n",
              "    <tr>\n",
              "      <th>4</th>\n",
              "      <td>5.0</td>\n",
              "      <td>3.6</td>\n",
              "      <td>1.4</td>\n",
              "      <td>0.2</td>\n",
              "    </tr>\n",
              "  </tbody>\n",
              "</table>\n",
              "</div>"
            ],
            "text/plain": [
              "   SepalLengthCm  SepalWidthCm  PetalLengthCm  PetalWidthCm\n",
              "0            5.1           3.5            1.4           0.2\n",
              "1            4.9           3.0            1.4           0.2\n",
              "2            4.7           3.2            1.3           0.2\n",
              "3            4.6           3.1            1.5           0.2\n",
              "4            5.0           3.6            1.4           0.2"
            ]
          },
          "execution_count": 21,
          "metadata": {},
          "output_type": "execute_result"
        }
      ],
      "source": [
        "X = pd.DataFrame(df, columns = ['SepalLengthCm', 'SepalWidthCm','PetalLengthCm', 'PetalWidthCm'])\n",
        "X.head()"
      ]
    },
    {
      "cell_type": "code",
      "execution_count": 22,
      "metadata": {
        "colab": {
          "base_uri": "https://localhost:8080/",
          "height": 182
        },
        "id": "Ys2iRO8Wuvow",
        "outputId": "3163c7f7-7d68-4913-ad08-64cb97d06e85"
      },
      "outputs": [
        {
          "data": {
            "text/plain": [
              "array([0, 0, 0, 0, 0, 0, 0, 0, 0, 0, 0, 0, 0, 0, 0, 0, 0, 0, 0, 0, 0, 0,\n",
              "       0, 0, 0, 0, 0, 0, 0, 0, 0, 0, 0, 0, 0, 0, 0, 0, 0, 0, 0, 0, 0, 0,\n",
              "       0, 0, 0, 0, 0, 0, 1, 1, 1, 1, 1, 1, 1, 1, 1, 1, 1, 1, 1, 1, 1, 1,\n",
              "       1, 1, 1, 1, 1, 1, 1, 1, 1, 1, 1, 1, 1, 1, 1, 1, 1, 1, 1, 1, 1, 1,\n",
              "       1, 1, 1, 1, 1, 1, 1, 1, 1, 1, 1, 1, 2, 2, 2, 2, 2, 2, 2, 2, 2, 2,\n",
              "       2, 2, 2, 2, 2, 2, 2, 2, 2, 2, 2, 2, 2, 2, 2, 2, 2, 2, 2, 2, 2, 2,\n",
              "       2, 2, 2, 2, 2, 2, 2, 2, 2, 2, 2, 2, 2, 2, 2, 2, 2, 2], dtype=int64)"
            ]
          },
          "execution_count": 22,
          "metadata": {},
          "output_type": "execute_result"
        }
      ],
      "source": [
        "y = df['Species'].to_numpy()\n",
        "y"
      ]
    },
    {
      "cell_type": "code",
      "execution_count": 24,
      "metadata": {
        "colab": {
          "base_uri": "https://localhost:8080/",
          "height": 165
        },
        "id": "xZsJ6ykTuvrF",
        "outputId": "39a32476-9c78-4f47-9dc8-4c7e2137f737"
      },
      "outputs": [],
      "source": [
        "X_train, X_test, y_train, y_test = train_test_split(X, y, test_size = 0.3, random_state = 1002)"
      ]
    },
    {
      "cell_type": "markdown",
      "metadata": {
        "id": "NCke59NRaB2I"
      },
      "source": [
        "### Gaussian Naive Bayes"
      ]
    },
    {
      "cell_type": "code",
      "execution_count": 28,
      "metadata": {
        "id": "ESMy4ycNqUM1"
      },
      "outputs": [
        {
          "name": "stdout",
          "output_type": "stream",
          "text": [
            "Accuracy using Gaussian Naive Bayes: 0.9777777777777777\n"
          ]
        }
      ],
      "source": [
        "gnb = GaussianNB()\n",
        "gnb.fit(X_train, y_train)\n",
        "y_pred = gnb.predict(X_test)\n",
        "acc = accuracy_score(y_pred, y_test)\n",
        "gnb_acc.append(acc)\n",
        "print(f'Accuracy using Gaussian Naive Bayes: {acc}')"
      ]
    },
    {
      "cell_type": "code",
      "execution_count": 29,
      "metadata": {
        "id": "HN-N2xceqUPy"
      },
      "outputs": [
        {
          "data": {
            "image/png": "[encoded data removed]",
            "text/plain": [
              "<Figure size 640x480 with 2 Axes>"
            ]
          },
          "metadata": {},
          "output_type": "display_data"
        }
      ],
      "source": [
        "matrix = metrics.confusion_matrix(y_test, y_pred)\n",
        "cm_display = metrics.ConfusionMatrixDisplay(confusion_matrix = matrix, display_labels = ['Iris-setosa', 'Iris-versicolor', 'Iris-virginica'])\n",
        "\n",
        "cm_display.plot()\n",
        "plt.show()"
      ]
    },
    {
      "cell_type": "markdown",
      "metadata": {
        "id": "fW-n_m-CaIxt"
      },
      "source": [
        "### Decision Tree"
      ]
    },
    {
      "cell_type": "code",
      "execution_count": 30,
      "metadata": {
        "id": "0O0nh9xWqUUI"
      },
      "outputs": [
        {
          "name": "stdout",
          "output_type": "stream",
          "text": [
            "Accuracy using Decision Tree: 0.9555555555555556\n"
          ]
        }
      ],
      "source": [
        "model = tree.DecisionTreeClassifier()\n",
        "model = model.fit(X_train, y_train)\n",
        " \n",
        "predicted_value = model.predict(X_test)\n",
        "acc = accuracy_score(predicted_value, y_test)\n",
        "tree_acc.append(acc)\n",
        "print(f'Accuracy using Decision Tree: {acc}')"
      ]
    },
    {
      "cell_type": "code",
      "execution_count": 32,
      "metadata": {
        "id": "vif5cV5c07CI"
      },
      "outputs": [
        {
          "data": {
            "image/png": "[encoded data removed]",
            "text/plain": [
              "<Figure size 640x480 with 2 Axes>"
            ]
          },
          "metadata": {},
          "output_type": "display_data"
        }
      ],
      "source": [
        "tree_matrix = metrics.confusion_matrix(y_test, predicted_value)\n",
        "tree_cm_display = metrics.ConfusionMatrixDisplay(confusion_matrix = tree_matrix, display_labels = ['Iris-setosa', 'Iris-versicolor', 'Iris-virginica'])\n",
        "\n",
        "tree_cm_display.plot()\n",
        "plt.show()"
      ]
    },
    {
      "cell_type": "markdown",
      "metadata": {
        "id": "k5wNsWM8aVvJ"
      },
      "source": [
        "### K-Fold Cross Validation"
      ]
    },
    {
      "cell_type": "code",
      "execution_count": null,
      "metadata": {
        "colab": {
          "base_uri": "https://localhost:8080/",
          "height": 235
        },
        "id": "h56u3w7FqvNE",
        "outputId": "a6321bec-2a45-48ce-ee61-ad8c5bc22742"
      },
      "outputs": [],
      "source": [
        "final_acc = 0\n",
        "k_folds = KFold(n_splits = 10, shuffle = True, random_state = 2002)\n",
        "for train_index, test_index in k_folds.split(X):\n",
        "  X_train, X_test = X.iloc[train_index, :], X.iloc[test_index, :]\n",
        "  y_train, y_test = y[train_index], y[test_index]\n",
        "  rfc_model = GaussianNB()\n",
        "  rfc_model.fit(X_train, y_train)\n",
        "  test_preds = rfc_model.predict(X_test)\n",
        "  test_accuracy = accuracy_score(y_test, test_preds)\n",
        "  final_acc += test_accuracy\n",
        "  test_confusion_matrix = metrics.confusion_matrix(y_test, test_preds)\n",
        "  print(f'Accuracy Score: {test_accuracy}')\n",
        "  print(f'Confusion Matrix: \\n{test_confusion_matrix}')\n",
        "  k_fold_cm_display = metrics.ConfusionMatrixDisplay(confusion_matrix = test_confusion_matrix, display_labels = ['Iris-setosa', 'Iris-versicolor', 'Iris-virginica'])\n",
        "  k_fold_cm_display.plot()\n",
        "  plt.show()\n",
        "  print('\\n')\n",
        "\n",
        "print(f'Average accuracy: {final_acc / 10}')"
      ]
    },
    {
      "cell_type": "code",
      "execution_count": null,
      "metadata": {
        "id": "cy4SVop_zGUZ"
      },
      "outputs": [],
      "source": [
        "final = 0\n",
        "k_folds = KFold(n_splits = 10, shuffle = True, random_state = 2002)\n",
        "for train_index, test_index in k_folds.split(X):\n",
        "  X_train, X_test = X.iloc[train_index, :], X.iloc[test_index, :]\n",
        "  y_train, y_test = y[train_index], y[test_index]\n",
        "  rfc_model = tree.DecisionTreeClassifier()\n",
        "  rfc_model.fit(X_train, y_train)\n",
        "  test_preds = rfc_model.predict(X_test)\n",
        "  test_accuracy = accuracy_score(y_test, test_preds)\n",
        "  final += test_accuracy\n",
        "  test_confusion_matrix = metrics.confusion_matrix(y_test, test_preds)\n",
        "  print(f'Accuracy Score: {test_accuracy}')\n",
        "  print(f'Confusion Matrix: \\n{test_confusion_matrix}')\n",
        "  k_fold_cm_display = metrics.ConfusionMatrixDisplay(confusion_matrix = test_confusion_matrix, display_labels = ['Iris-setosa', 'Iris-versicolor', 'Iris-virginica'])\n",
        "  k_fold_cm_display.plot()\n",
        "  plt.show()\n",
        "  print('\\n')\n",
        "\n",
        "print(f'Average accuracy: {final / 10}')"
      ]
    },
    {
      "cell_type": "markdown",
      "metadata": {
        "id": "MhDVuW_utsCs"
      },
      "source": [
        "### Bagging Classifier"
      ]
    },
    {
      "cell_type": "code",
      "execution_count": 36,
      "metadata": {
        "id": "rCVMY_0Atq7J"
      },
      "outputs": [
        {
          "name": "stdout",
          "output_type": "stream",
          "text": [
            "Train score: 0.9481481481481482\n",
            "Test score: 1.0\n"
          ]
        },
        {
          "name": "stderr",
          "output_type": "stream",
          "text": [
            "c:\\Users\\Meet\\AppData\\Local\\Programs\\Python\\Python310\\lib\\site-packages\\sklearn\\ensemble\\_base.py:166: FutureWarning: `base_estimator` was renamed to `estimator` in version 1.2 and will be removed in 1.4.\n",
            "  warnings.warn(\n"
          ]
        }
      ],
      "source": [
        "bagging = BaggingClassifier(base_estimator = gnb, n_estimators = 5, max_samples = 50, bootstrap = True)\n",
        "bagging.fit(X_train, y_train)\n",
        "print(f'Train score: {bagging.score(X_train, y_train)}')\n",
        "print(f'Test score: {bagging.score(X_test, y_test)}')"
      ]
    },
    {
      "cell_type": "code",
      "execution_count": 38,
      "metadata": {
        "id": "LI_Lb3zPvZWE"
      },
      "outputs": [
        {
          "name": "stdout",
          "output_type": "stream",
          "text": [
            "Train score: 0.9555555555555556\n",
            "Test score: 1.0\n"
          ]
        },
        {
          "name": "stderr",
          "output_type": "stream",
          "text": [
            "c:\\Users\\Meet\\AppData\\Local\\Programs\\Python\\Python310\\lib\\site-packages\\sklearn\\ensemble\\_base.py:166: FutureWarning: `base_estimator` was renamed to `estimator` in version 1.2 and will be removed in 1.4.\n",
            "  warnings.warn(\n"
          ]
        }
      ],
      "source": [
        "bagging = BaggingClassifier(base_estimator = model, n_estimators = 5, max_samples = 50, bootstrap = True)\n",
        "bagging.fit(X_train, y_train)\n",
        "print(f'Train score: {bagging.score(X_train, y_train)}')\n",
        "print(f'Test score: {bagging.score(X_test, y_test)}')"
      ]
    },
    {
      "cell_type": "markdown",
      "metadata": {
        "id": "qVrPjfMPujdF"
      },
      "source": [
        "### Boosting - Adaboost Classifier"
      ]
    },
    {
      "cell_type": "code",
      "execution_count": 39,
      "metadata": {
        "id": "DgZIEKlPtrAU"
      },
      "outputs": [
        {
          "name": "stdout",
          "output_type": "stream",
          "text": [
            "Train score: 0.9555555555555556\n",
            "Test score: 1.0\n"
          ]
        },
        {
          "name": "stderr",
          "output_type": "stream",
          "text": [
            "c:\\Users\\Meet\\AppData\\Local\\Programs\\Python\\Python310\\lib\\site-packages\\sklearn\\ensemble\\_base.py:166: FutureWarning: `base_estimator` was renamed to `estimator` in version 1.2 and will be removed in 1.4.\n",
            "  warnings.warn(\n"
          ]
        }
      ],
      "source": [
        "adaboost = AdaBoostClassifier(base_estimator = gnb, n_estimators = 5, learning_rate = 0.1, random_state = 25210)\n",
        "adaboost.fit(X_train, y_train)\n",
        "print(f\"Train score: {adaboost.score(X_train, y_train)}\")\n",
        "print(f\"Test score: {adaboost.score(X_test, y_test)}\")"
      ]
    },
    {
      "cell_type": "code",
      "execution_count": 40,
      "metadata": {
        "id": "OS6A-erWtrEu"
      },
      "outputs": [
        {
          "name": "stdout",
          "output_type": "stream",
          "text": [
            "Train score: 1.0\n",
            "Test score: 1.0\n"
          ]
        },
        {
          "name": "stderr",
          "output_type": "stream",
          "text": [
            "c:\\Users\\Meet\\AppData\\Local\\Programs\\Python\\Python310\\lib\\site-packages\\sklearn\\ensemble\\_base.py:166: FutureWarning: `base_estimator` was renamed to `estimator` in version 1.2 and will be removed in 1.4.\n",
            "  warnings.warn(\n"
          ]
        }
      ],
      "source": [
        "adaboost = AdaBoostClassifier(base_estimator = model, n_estimators = 5, learning_rate = 0.1, random_state = 25210)\n",
        "adaboost.fit(X_train, y_train)\n",
        "print(f\"Train score: {adaboost.score(X_train, y_train)}\")\n",
        "print(f\"Test score: {adaboost.score(X_test, y_test)}\")"
      ]
    },
    {
      "cell_type": "markdown",
      "metadata": {
        "id": "wcDb5DTc7Cg-"
      },
      "source": [
        "### Random Forest Classifier"
      ]
    },
    {
      "cell_type": "code",
      "execution_count": 41,
      "metadata": {
        "id": "ZUFkID_e7Cpk"
      },
      "outputs": [
        {
          "name": "stdout",
          "output_type": "stream",
          "text": [
            "Train score: 1.0\n",
            "Test score: 1.0\n"
          ]
        },
        {
          "name": "stderr",
          "output_type": "stream",
          "text": [
            "c:\\Users\\Meet\\AppData\\Local\\Programs\\Python\\Python310\\lib\\site-packages\\sklearn\\ensemble\\_forest.py:425: FutureWarning: `max_features='auto'` has been deprecated in 1.1 and will be removed in 1.3. To keep the past behaviour, explicitly set `max_features='sqrt'` or remove this parameter as it is also the default value for RandomForestClassifiers and ExtraTreesClassifiers.\n",
            "  warn(\n"
          ]
        }
      ],
      "source": [
        "clf = RandomForestClassifier(n_estimators = 100, max_features = \"auto\", random_state = 4627)\n",
        "clf.fit(X_train, y_train)\n",
        "print(f\"Train score: {clf.score(X_train, y_train)}\")\n",
        "print(f\"Test score: {clf.score(X_test, y_test)}\")"
      ]
    },
    {
      "cell_type": "markdown",
      "metadata": {
        "id": "E2Kxwl4Abk0I"
      },
      "source": [
        "# Stars Dataset"
      ]
    },
    {
      "cell_type": "markdown",
      "metadata": {
        "id": "5vWb5Hdfaedi"
      },
      "source": [
        "### Pre-processing"
      ]
    },
    {
      "cell_type": "code",
      "execution_count": null,
      "metadata": {
        "id": "RTw_ZLvhEQ_U"
      },
      "outputs": [],
      "source": [
        "dataset.append('Stars')"
      ]
    },
    {
      "cell_type": "code",
      "execution_count": null,
      "metadata": {
        "id": "F_AthG4Kdlxv"
      },
      "outputs": [],
      "source": [
        "df = pd.read_csv('/content/drive/MyDrive/Star3642_balanced.csv')"
      ]
    },
    {
      "cell_type": "code",
      "execution_count": null,
      "metadata": {
        "colab": {
          "base_uri": "https://localhost:8080/",
          "height": 363
        },
        "id": "3cPUCZVmdlx6",
        "outputId": "51304118-f585-49ef-bfaa-8fde40aec3fb"
      },
      "outputs": [],
      "source": [
        "df.head(10)"
      ]
    },
    {
      "cell_type": "code",
      "execution_count": null,
      "metadata": {
        "colab": {
          "base_uri": "https://localhost:8080/"
        },
        "id": "5yPgkTdBdlx6",
        "outputId": "8834364a-14dd-4a34-ac14-97ec5db0d69d"
      },
      "outputs": [],
      "source": [
        "df.size"
      ]
    },
    {
      "cell_type": "code",
      "execution_count": null,
      "metadata": {
        "colab": {
          "base_uri": "https://localhost:8080/"
        },
        "id": "0K94vYUCdlx7",
        "outputId": "7695490f-d432-4480-9194-253a9a33838d"
      },
      "outputs": [],
      "source": [
        "df.shape"
      ]
    },
    {
      "cell_type": "code",
      "execution_count": null,
      "metadata": {
        "colab": {
          "base_uri": "https://localhost:8080/",
          "height": 300
        },
        "id": "1zSSMrxddlx7",
        "outputId": "fe399d0b-65f3-4c59-a1c7-0e833da90ae3"
      },
      "outputs": [],
      "source": [
        "df.describe()"
      ]
    },
    {
      "cell_type": "code",
      "execution_count": null,
      "metadata": {
        "colab": {
          "base_uri": "https://localhost:8080/"
        },
        "id": "T3v0Ux2ndlx7",
        "outputId": "fcd6b58e-287b-4fe3-c856-622dbb8834c3"
      },
      "outputs": [],
      "source": [
        "df.info()"
      ]
    },
    {
      "cell_type": "code",
      "execution_count": null,
      "metadata": {
        "colab": {
          "base_uri": "https://localhost:8080/"
        },
        "id": "gjV0cfM9dlx8",
        "outputId": "e00517c7-2a7b-4a20-edda-1fd2fa381699"
      },
      "outputs": [],
      "source": [
        "for i in df.columns:\n",
        "  print(i)"
      ]
    },
    {
      "cell_type": "code",
      "execution_count": null,
      "metadata": {
        "colab": {
          "base_uri": "https://localhost:8080/",
          "height": 424
        },
        "id": "fqr4HhAgnzx0",
        "outputId": "45a61b74-7497-44ad-8edb-2ec955613fe2"
      },
      "outputs": [],
      "source": [
        "df.drop('SpType', axis = 1)"
      ]
    },
    {
      "cell_type": "code",
      "execution_count": null,
      "metadata": {
        "colab": {
          "base_uri": "https://localhost:8080/",
          "height": 206
        },
        "id": "qhdMZvsNdLZW",
        "outputId": "b7777bb9-9c6d-4a97-8072-ebb08ffaac2a"
      },
      "outputs": [],
      "source": [
        "X = pd.DataFrame(df, columns = ['Vmag', 'Plx', 'e_Plx', 'B-V', 'Amag'])\n",
        "X.head()"
      ]
    },
    {
      "cell_type": "code",
      "execution_count": null,
      "metadata": {
        "colab": {
          "base_uri": "https://localhost:8080/"
        },
        "id": "gxBhbkZCdLgY",
        "outputId": "7c92253e-438c-457c-f872-4e798b1197a3"
      },
      "outputs": [],
      "source": [
        "y = df['TargetClass'].to_numpy()\n",
        "y"
      ]
    },
    {
      "cell_type": "code",
      "execution_count": null,
      "metadata": {
        "id": "HlYb8oaueYP4"
      },
      "outputs": [],
      "source": [
        "X_train, X_test, y_train, y_test = train_test_split(X, y, test_size = 0.25, random_state = 10242)"
      ]
    },
    {
      "cell_type": "markdown",
      "metadata": {
        "id": "URoElxfMag0s"
      },
      "source": [
        "### Gaussian Naive Bayes"
      ]
    },
    {
      "cell_type": "code",
      "execution_count": null,
      "metadata": {
        "colab": {
          "base_uri": "https://localhost:8080/"
        },
        "id": "pp2Th1dEeYUW",
        "outputId": "c34d6230-f887-4818-bcfd-e6563a0ec99d"
      },
      "outputs": [],
      "source": [
        "gnb = GaussianNB()\n",
        "gnb.fit(X_train, y_train)\n",
        "y_pred = gnb.predict(X_test)\n",
        "acc = accuracy_score(y_pred, y_test)\n",
        "gnb_acc.append(acc)\n",
        "print(f'Accuracy using Gaussian Naive Bayes: {acc}')"
      ]
    },
    {
      "cell_type": "code",
      "execution_count": null,
      "metadata": {
        "colab": {
          "base_uri": "https://localhost:8080/",
          "height": 279
        },
        "id": "gnVxGEC6kicC",
        "outputId": "f4a74f1d-c6b5-49fc-d1e0-6dc7eed8f432"
      },
      "outputs": [],
      "source": [
        "matrix = metrics.confusion_matrix(y_test, y_pred)\n",
        "cm_display = metrics.ConfusionMatrixDisplay(confusion_matrix = matrix, display_labels = ['0', '1'])\n",
        "\n",
        "cm_display.plot()\n",
        "plt.show()"
      ]
    },
    {
      "cell_type": "code",
      "execution_count": null,
      "metadata": {
        "colab": {
          "base_uri": "https://localhost:8080/",
          "height": 265
        },
        "id": "2KoYRz4z_c3q",
        "outputId": "51d3cd35-a091-4c3f-efa2-b3a038e340e6"
      },
      "outputs": [],
      "source": [
        "y_pred_proba = gnb.predict_proba(X_test)[::,1]\n",
        "fpr, tpr, _ = metrics.roc_curve(y_test, y_pred_proba)\n",
        "auc = metrics.roc_auc_score(y_test, y_pred_proba)\n",
        "plt.plot(fpr, tpr, label = \"Data 1, auc=\" + str(auc))\n",
        "plt.legend(loc = 4)\n",
        "plt.show()"
      ]
    },
    {
      "cell_type": "code",
      "execution_count": null,
      "metadata": {
        "id": "jlLMKCl8vecl"
      },
      "outputs": [],
      "source": [
        "scores = []"
      ]
    },
    {
      "cell_type": "markdown",
      "metadata": {
        "id": "A03rrF5aak72"
      },
      "source": [
        "### Decision Tree"
      ]
    },
    {
      "cell_type": "code",
      "execution_count": null,
      "metadata": {
        "colab": {
          "base_uri": "https://localhost:8080/"
        },
        "id": "nvIdJ4bokik2",
        "outputId": "8338f826-59c8-4111-8a53-8bb9eedaa071"
      },
      "outputs": [],
      "source": [
        "model = tree.DecisionTreeClassifier()\n",
        "model = model.fit(X_train, y_train)\n",
        " \n",
        "predicted_value = model.predict(X_test)\n",
        "acc = accuracy_score(predicted_value, y_test)\n",
        "scores.append(acc)\n",
        "tree_acc.append(acc)\n",
        "print(f'Accuracy using Decision Tree: {acc}')"
      ]
    },
    {
      "cell_type": "code",
      "execution_count": null,
      "metadata": {
        "colab": {
          "base_uri": "https://localhost:8080/",
          "height": 279
        },
        "id": "R-UNeGNBkinP",
        "outputId": "8c1f83a2-c5fb-4001-a7ba-d67a1dce8987"
      },
      "outputs": [],
      "source": [
        "tree_matrix = metrics.confusion_matrix(y_test, y_pred)\n",
        "tree_cm_display = metrics.ConfusionMatrixDisplay(confusion_matrix = tree_matrix, display_labels = ['0', '1'])\n",
        "\n",
        "tree_cm_display.plot()\n",
        "plt.show()"
      ]
    },
    {
      "cell_type": "code",
      "execution_count": null,
      "metadata": {
        "colab": {
          "base_uri": "https://localhost:8080/",
          "height": 265
        },
        "id": "OdrAfkDAAdVq",
        "outputId": "4899d903-0ea5-4ce3-ead4-424c2daf90b1"
      },
      "outputs": [],
      "source": [
        "y_pred_proba = model.predict_proba(X_test)[::,1]\n",
        "fpr, tpr, _ = metrics.roc_curve(y_test, y_pred_proba)\n",
        "auc = metrics.roc_auc_score(y_test, y_pred_proba)\n",
        "plt.plot(fpr, tpr, label = \"Data 1, auc=\" + str(auc))\n",
        "plt.legend(loc = 4)\n",
        "plt.show()"
      ]
    },
    {
      "cell_type": "markdown",
      "metadata": {
        "id": "WA3fXYu_apwm"
      },
      "source": [
        "### K-Fold Cross Validation"
      ]
    },
    {
      "cell_type": "code",
      "execution_count": null,
      "metadata": {
        "colab": {
          "base_uri": "https://localhost:8080/",
          "height": 1000
        },
        "id": "bSUG-HDTpuxy",
        "outputId": "c394a7b8-b1d4-4d95-e54c-ddd9c37f610c"
      },
      "outputs": [],
      "source": [
        "final_acc = 0\n",
        "k_folds = KFold(n_splits = 10, shuffle = True, random_state = 2002)\n",
        "for train_index, test_index in k_folds.split(X):\n",
        "  X_train, X_test = X.iloc[train_index, :], X.iloc[test_index, :]\n",
        "  y_train, y_test = y[train_index], y[test_index]\n",
        "  rfc_model = GaussianNB()\n",
        "  rfc_model.fit(X_train, y_train)\n",
        "  test_preds = rfc_model.predict(X_test)\n",
        "  test_accuracy = accuracy_score(y_test, test_preds)\n",
        "  final_acc += test_accuracy\n",
        "  test_confusion_matrix = metrics.confusion_matrix(y_test, test_preds)\n",
        "  print(f'Accuracy Score: {test_accuracy}')\n",
        "  print(f'Confusion Matrix: \\n{test_confusion_matrix}')\n",
        "  k_fold_cm_display = metrics.ConfusionMatrixDisplay(confusion_matrix = test_confusion_matrix, display_labels = ['0', '1'])\n",
        "  k_fold_cm_display.plot()\n",
        "  plt.show()\n",
        "  print('\\n')\n",
        "\n",
        "print(f'Average accuracy: {final_acc / 10}')"
      ]
    },
    {
      "cell_type": "code",
      "execution_count": null,
      "metadata": {
        "id": "QkqKgywXpu0T"
      },
      "outputs": [],
      "source": []
    },
    {
      "cell_type": "code",
      "execution_count": null,
      "metadata": {
        "colab": {
          "base_uri": "https://localhost:8080/",
          "height": 1000
        },
        "id": "jGRm2yxspu3H",
        "outputId": "db164073-dc03-4b9a-d602-0ca23f17229c"
      },
      "outputs": [],
      "source": [
        "final = 0\n",
        "k_folds = KFold(n_splits = 5, shuffle = True, random_state = 2002)\n",
        "for train_index, test_index in k_folds.split(X):\n",
        "  X_train, X_test = X.iloc[train_index, :], X.iloc[test_index, :]\n",
        "  y_train, y_test = y[train_index], y[test_index]\n",
        "  rfc_model = tree.DecisionTreeClassifier()\n",
        "  rfc_model.fit(X_train, y_train)\n",
        "  test_preds = rfc_model.predict(X_test)\n",
        "  test_accuracy = accuracy_score(y_test, test_preds)\n",
        "  final += test_accuracy\n",
        "  test_confusion_matrix = metrics.confusion_matrix(y_test, test_preds)\n",
        "  print(f'Accuracy Score: {test_accuracy}')\n",
        "  print(f'Confusion Matrix: \\n{test_confusion_matrix}')\n",
        "  k_fold_cm_display = metrics.ConfusionMatrixDisplay(confusion_matrix = test_confusion_matrix, display_labels = ['0', '1'])\n",
        "  k_fold_cm_display.plot()\n",
        "  plt.show()\n",
        "  print('\\n')\n",
        "\n",
        "print(f'Average accuracy: {final / 5}')\n",
        "scores.append(final/ 5)"
      ]
    },
    {
      "cell_type": "markdown",
      "metadata": {
        "id": "xUfuMiI9vphV"
      },
      "source": [
        "### Bagging Classifier"
      ]
    },
    {
      "cell_type": "code",
      "execution_count": null,
      "metadata": {
        "colab": {
          "base_uri": "https://localhost:8080/"
        },
        "id": "CQdnFpnmvphW",
        "outputId": "248b5128-71ae-421f-c319-b6ed404ef8bf"
      },
      "outputs": [],
      "source": [
        "bagging = BaggingClassifier(base_estimator = gnb, n_estimators = 5, max_samples = 50, bootstrap = True)\n",
        "bagging.fit(X_train, y_train)\n",
        "print(f'Train score: {bagging.score(X_train, y_train)}')\n",
        "print(f'Test score: {bagging.score(X_test, y_test)}')"
      ]
    },
    {
      "cell_type": "code",
      "execution_count": null,
      "metadata": {
        "colab": {
          "base_uri": "https://localhost:8080/"
        },
        "id": "7HpcJFB2vphX",
        "outputId": "5335d178-762a-4d0b-8b94-6a704b9ce127"
      },
      "outputs": [],
      "source": [
        "bagging = BaggingClassifier(base_estimator = model, n_estimators = 5, max_samples = 50, bootstrap = True)\n",
        "bagging.fit(X_train, y_train)\n",
        "print(f'Train score: {bagging.score(X_train, y_train)}')\n",
        "print(f'Test score: {bagging.score(X_test, y_test)}')\n",
        "scores.append(bagging.score(X_test, y_test))"
      ]
    },
    {
      "cell_type": "markdown",
      "metadata": {
        "id": "VofniXEjvphX"
      },
      "source": [
        "### Boosting - Adaboost Classifier"
      ]
    },
    {
      "cell_type": "code",
      "execution_count": null,
      "metadata": {
        "colab": {
          "base_uri": "https://localhost:8080/"
        },
        "id": "WHz82A6YvphY",
        "outputId": "6d336ae7-9673-4d32-9d50-7b5aef8ee2cf"
      },
      "outputs": [],
      "source": [
        "adaboost = AdaBoostClassifier(base_estimator = gnb, n_estimators = 5, learning_rate = 0.1, random_state = 25210)\n",
        "adaboost.fit(X_train, y_train)\n",
        "print(f\"Train score: {adaboost.score(X_train, y_train)}\")\n",
        "print(f\"Test score: {adaboost.score(X_test, y_test)}\")"
      ]
    },
    {
      "cell_type": "code",
      "execution_count": null,
      "metadata": {
        "colab": {
          "base_uri": "https://localhost:8080/"
        },
        "id": "8t2uCbfEvphY",
        "outputId": "9d49f383-a997-4baa-d462-d2612f1d5533"
      },
      "outputs": [],
      "source": [
        "adaboost = AdaBoostClassifier(base_estimator = model, n_estimators = 5, learning_rate = 0.1, random_state = 25210)\n",
        "adaboost.fit(X_train, y_train)\n",
        "print(f\"Train score: {adaboost.score(X_train, y_train)}\")\n",
        "print(f\"Test score: {adaboost.score(X_test, y_test)}\")\n",
        "scores.append(adaboost.score(X_test, y_test))"
      ]
    },
    {
      "cell_type": "markdown",
      "metadata": {
        "id": "F0gG4HV2_ubX"
      },
      "source": [
        "### Random Forest Classifier"
      ]
    },
    {
      "cell_type": "code",
      "execution_count": null,
      "metadata": {
        "colab": {
          "base_uri": "https://localhost:8080/"
        },
        "id": "U-VexZO4_ubY",
        "outputId": "72b93338-52fe-4162-9e30-6847a097948e"
      },
      "outputs": [],
      "source": [
        "clf = RandomForestClassifier(n_estimators = 100, max_features = \"auto\", random_state = 4627)\n",
        "clf.fit(X_train, y_train)\n",
        "print(f\"Train score: {clf.score(X_train, y_train)}\")\n",
        "print(f\"Test score: {clf.score(X_test, y_test)}\")\n",
        "scores.append(clf.score(X_test, y_test))"
      ]
    },
    {
      "cell_type": "code",
      "execution_count": null,
      "metadata": {
        "colab": {
          "base_uri": "https://localhost:8080/"
        },
        "id": "SFAqYfNLuE0Z",
        "outputId": "9979367a-6a5c-47f7-d2e9-9d2ad7b5293b"
      },
      "outputs": [],
      "source": [
        "all_data = {'Classifier': ['Decision Treee', 'K-Fold', 'Bagging Classifier', 'Adaboost', 'Random Forest'],\n",
        "            'Accuracy': scores}\n",
        "print(tabulate(all_data, tablefmt = 'grid'))"
      ]
    },
    {
      "cell_type": "markdown",
      "metadata": {
        "id": "Wwcy-WUap2V8"
      },
      "source": [
        "# Heart Dataset"
      ]
    },
    {
      "cell_type": "markdown",
      "metadata": {
        "id": "GH2F8gwQa3dk"
      },
      "source": [
        "### Pre-processing"
      ]
    },
    {
      "cell_type": "code",
      "execution_count": null,
      "metadata": {
        "id": "0whUZrReEb1j"
      },
      "outputs": [],
      "source": [
        "dataset.append('Heart Attack')"
      ]
    },
    {
      "cell_type": "code",
      "execution_count": null,
      "metadata": {
        "id": "sxhuAmbeMKdO"
      },
      "outputs": [],
      "source": [
        "df = pd.read_csv('/content/drive/MyDrive/heart.csv')"
      ]
    },
    {
      "cell_type": "code",
      "execution_count": null,
      "metadata": {
        "colab": {
          "base_uri": "https://localhost:8080/",
          "height": 363
        },
        "id": "fVnjFKyqMKdk",
        "outputId": "f53445be-6544-4b12-ec0f-f069e6f0b15b"
      },
      "outputs": [],
      "source": [
        "df.head(10)"
      ]
    },
    {
      "cell_type": "code",
      "execution_count": null,
      "metadata": {
        "colab": {
          "base_uri": "https://localhost:8080/"
        },
        "id": "HHUPG-WdMKdl",
        "outputId": "6a4f83ea-a11a-40f1-ba3a-561c7ec00b80"
      },
      "outputs": [],
      "source": [
        "df.size"
      ]
    },
    {
      "cell_type": "code",
      "execution_count": null,
      "metadata": {
        "colab": {
          "base_uri": "https://localhost:8080/"
        },
        "id": "yLZJgVk2MKdl",
        "outputId": "2fe6895b-6993-4f9b-d74c-c29abef87069"
      },
      "outputs": [],
      "source": [
        "df.shape"
      ]
    },
    {
      "cell_type": "code",
      "execution_count": null,
      "metadata": {
        "colab": {
          "base_uri": "https://localhost:8080/",
          "height": 364
        },
        "id": "-phpP6gDMKdm",
        "outputId": "0d1beb94-e3c1-4e31-99b2-234197bfbf3f"
      },
      "outputs": [],
      "source": [
        "df.describe()"
      ]
    },
    {
      "cell_type": "code",
      "execution_count": null,
      "metadata": {
        "colab": {
          "base_uri": "https://localhost:8080/"
        },
        "id": "jLtg7pibMKdm",
        "outputId": "1a222189-a6ef-42a2-a1c1-4b0d85c83997"
      },
      "outputs": [],
      "source": [
        "df.info"
      ]
    },
    {
      "cell_type": "code",
      "execution_count": null,
      "metadata": {
        "colab": {
          "base_uri": "https://localhost:8080/"
        },
        "id": "Zu7jTAlpMKdn",
        "outputId": "18c8e8ce-385e-4412-c068-a1a0515eadd2"
      },
      "outputs": [],
      "source": [
        "for i in df.columns:\n",
        "  print(i)"
      ]
    },
    {
      "cell_type": "code",
      "execution_count": null,
      "metadata": {
        "colab": {
          "base_uri": "https://localhost:8080/",
          "height": 206
        },
        "id": "ZkPZHhfBMKdo",
        "outputId": "eec07013-b029-46c8-e59d-40280945b37b"
      },
      "outputs": [],
      "source": [
        "X = pd.DataFrame(df, columns = ['age', 'sex', 'cp', 'trtbps', 'chol', 'fbs', 'restecg', 'thalachh', 'exng', 'oldpeak', 'slp', 'caa', 'thall'])\n",
        "X.head()"
      ]
    },
    {
      "cell_type": "code",
      "execution_count": null,
      "metadata": {
        "colab": {
          "base_uri": "https://localhost:8080/"
        },
        "id": "FPzPMPJmMKdp",
        "outputId": "2c2800ec-d695-4e8f-9902-787f5a3340ea"
      },
      "outputs": [],
      "source": [
        "y = df['output'].to_numpy()\n",
        "y"
      ]
    },
    {
      "cell_type": "code",
      "execution_count": null,
      "metadata": {
        "id": "dAhbV5WrMKdp"
      },
      "outputs": [],
      "source": [
        "X_train, X_test, y_train, y_test = train_test_split(X, y, test_size = 0.2, random_state = 10242)"
      ]
    },
    {
      "cell_type": "markdown",
      "metadata": {
        "id": "2aeJe8f6a3dl"
      },
      "source": [
        "### Gaussian Naive Bayes"
      ]
    },
    {
      "cell_type": "code",
      "execution_count": null,
      "metadata": {
        "colab": {
          "base_uri": "https://localhost:8080/"
        },
        "id": "yccXuu5CMKdq",
        "outputId": "83ade945-6cec-4026-f113-87633ad4cb78"
      },
      "outputs": [],
      "source": [
        "gnb = GaussianNB()\n",
        "gnb.fit(X_train, y_train)\n",
        "y_pred = gnb.predict(X_test)\n",
        "acc = accuracy_score(y_pred, y_test)\n",
        "gnb_acc.append(acc)\n",
        "print(f'Accuracy using Gaussian Naive Bayes: {acc}')"
      ]
    },
    {
      "cell_type": "code",
      "execution_count": null,
      "metadata": {
        "colab": {
          "base_uri": "https://localhost:8080/",
          "height": 279
        },
        "id": "g6dhreKkMKdq",
        "outputId": "e77b11ad-48b6-4b9d-cc4f-2c7e9fa1ef37"
      },
      "outputs": [],
      "source": [
        "matrix = metrics.confusion_matrix(y_test, y_pred)\n",
        "cm_display = metrics.ConfusionMatrixDisplay(confusion_matrix = matrix, display_labels = ['0', '1'])\n",
        "\n",
        "cm_display.plot()\n",
        "plt.show()"
      ]
    },
    {
      "cell_type": "code",
      "execution_count": null,
      "metadata": {
        "colab": {
          "base_uri": "https://localhost:8080/",
          "height": 265
        },
        "id": "a_niY6ZwAv9x",
        "outputId": "b5156f9c-cae2-46d0-e360-90fb14ac007b"
      },
      "outputs": [],
      "source": [
        "y_pred_proba = gnb.predict_proba(X_test)[::,1]\n",
        "fpr, tpr, _ = metrics.roc_curve(y_test, y_pred_proba)\n",
        "auc = metrics.roc_auc_score(y_test, y_pred_proba)\n",
        "plt.plot(fpr, tpr, label = \"Data 1, auc=\" + str(auc))\n",
        "plt.legend(loc = 4)\n",
        "plt.show()"
      ]
    },
    {
      "cell_type": "markdown",
      "metadata": {
        "id": "W46k_cpKbEwl"
      },
      "source": [
        "### Decision Tree"
      ]
    },
    {
      "cell_type": "code",
      "execution_count": null,
      "metadata": {
        "colab": {
          "base_uri": "https://localhost:8080/"
        },
        "id": "Pg0XTJ7mMKdr",
        "outputId": "4e5257bb-40ef-4a07-dffe-f0a7463084f3"
      },
      "outputs": [],
      "source": [
        "model = tree.DecisionTreeClassifier()\n",
        "model = model.fit(X_train, y_train)\n",
        " \n",
        "predicted_value = model.predict(X_test)\n",
        "acc = accuracy_score(predicted_value, y_test)\n",
        "tree_acc.append(acc)\n",
        "print(f'Accuracy using Decision Tree: {acc}')"
      ]
    },
    {
      "cell_type": "code",
      "execution_count": null,
      "metadata": {
        "colab": {
          "base_uri": "https://localhost:8080/",
          "height": 279
        },
        "id": "yceGgQ22MKds",
        "outputId": "07797d74-fe26-451e-b2c1-269d98b16341"
      },
      "outputs": [],
      "source": [
        "tree_matrix = metrics.confusion_matrix(y_test, y_pred)\n",
        "tree_cm_display = metrics.ConfusionMatrixDisplay(confusion_matrix = tree_matrix, display_labels = ['0', '1'])\n",
        "\n",
        "tree_cm_display.plot()\n",
        "plt.show()"
      ]
    },
    {
      "cell_type": "code",
      "execution_count": null,
      "metadata": {
        "colab": {
          "base_uri": "https://localhost:8080/",
          "height": 265
        },
        "id": "KoR1aYlWAv9z",
        "outputId": "ddcb5515-95c3-4bfa-c1c8-fa00a0f16ad0"
      },
      "outputs": [],
      "source": [
        "y_pred_proba = model.predict_proba(X_test)[::,1]\n",
        "fpr, tpr, _ = metrics.roc_curve(y_test, y_pred_proba)\n",
        "auc = metrics.roc_auc_score(y_test, y_pred_proba)\n",
        "plt.plot(fpr, tpr, label = \"Data 1, auc=\" + str(auc))\n",
        "plt.legend(loc = 4)\n",
        "plt.show()"
      ]
    },
    {
      "cell_type": "markdown",
      "metadata": {
        "id": "iZ7cshuVbK9j"
      },
      "source": [
        "### K-Fold Cross Validation"
      ]
    },
    {
      "cell_type": "code",
      "execution_count": null,
      "metadata": {
        "colab": {
          "base_uri": "https://localhost:8080/",
          "height": 3717
        },
        "id": "XkIcBFGiMKdt",
        "outputId": "ac123d1b-c6fb-40e8-883e-3afc142475af"
      },
      "outputs": [],
      "source": [
        "final_acc = 0\n",
        "k_folds = KFold(n_splits = 10, shuffle = True, random_state = 2002)\n",
        "for train_index, test_index in k_folds.split(X):\n",
        "  X_train, X_test = X.iloc[train_index, :], X.iloc[test_index, :]\n",
        "  y_train, y_test = y[train_index], y[test_index]\n",
        "  rfc_model = GaussianNB()\n",
        "  rfc_model.fit(X_train, y_train)\n",
        "  test_preds = rfc_model.predict(X_test)\n",
        "  test_accuracy = accuracy_score(y_test, test_preds)\n",
        "  final_acc += test_accuracy\n",
        "  test_confusion_matrix = metrics.confusion_matrix(y_test, test_preds)\n",
        "  print(f'Accuracy Score: {test_accuracy}')\n",
        "  print(f'Confusion Matrix: \\n{test_confusion_matrix}')\n",
        "  k_fold_cm_display = metrics.ConfusionMatrixDisplay(confusion_matrix = test_confusion_matrix, display_labels = ['0', '1'])\n",
        "  k_fold_cm_display.plot()\n",
        "  plt.show()\n",
        "  print('\\n')\n",
        "\n",
        "print(f'Average accuracy: {final_acc / 10}')"
      ]
    },
    {
      "cell_type": "code",
      "execution_count": null,
      "metadata": {
        "id": "gXXS-erfMKdt"
      },
      "outputs": [],
      "source": []
    },
    {
      "cell_type": "code",
      "execution_count": null,
      "metadata": {
        "colab": {
          "base_uri": "https://localhost:8080/",
          "height": 3721
        },
        "id": "5maYZZdMMKdu",
        "outputId": "7adcc519-c92d-4cc0-c722-19eee729e427"
      },
      "outputs": [],
      "source": [
        "final = 0\n",
        "k_folds = KFold(n_splits = 10, shuffle = True, random_state = 2002)\n",
        "for train_index, test_index in k_folds.split(X):\n",
        "  X_train, X_test = X.iloc[train_index, :], X.iloc[test_index, :]\n",
        "  y_train, y_test = y[train_index], y[test_index]\n",
        "  rfc_model = tree.DecisionTreeClassifier()\n",
        "  rfc_model.fit(X_train, y_train)\n",
        "  test_preds = rfc_model.predict(X_test)\n",
        "  test_accuracy = accuracy_score(y_test, test_preds)\n",
        "  final += test_accuracy\n",
        "  test_confusion_matrix = metrics.confusion_matrix(y_test, test_preds)\n",
        "  print(f'Accuracy Score: {test_accuracy}')\n",
        "  print(f'Confusion Matrix: \\n{test_confusion_matrix}')\n",
        "  k_fold_cm_display = metrics.ConfusionMatrixDisplay(confusion_matrix = test_confusion_matrix, display_labels = ['0', '1'])\n",
        "  k_fold_cm_display.plot()\n",
        "  plt.show()\n",
        "  print('\\n')\n",
        "\n",
        "print(f'Average accuracy: {final / 10}')"
      ]
    },
    {
      "cell_type": "markdown",
      "metadata": {
        "id": "vW7TzZXjwEko"
      },
      "source": [
        "### Bagging Classifier"
      ]
    },
    {
      "cell_type": "code",
      "execution_count": null,
      "metadata": {
        "colab": {
          "base_uri": "https://localhost:8080/"
        },
        "id": "mf5PRSCWwEkp",
        "outputId": "606b0172-2a1d-4c87-830d-9e561c18dc1e"
      },
      "outputs": [],
      "source": [
        "bagging = BaggingClassifier(base_estimator = gnb, n_estimators = 5, max_samples = 50, bootstrap = True)\n",
        "bagging.fit(X_train, y_train)\n",
        "print(f'Train score: {bagging.score(X_train, y_train)}')\n",
        "print(f'Test score: {bagging.score(X_test, y_test)}')"
      ]
    },
    {
      "cell_type": "code",
      "execution_count": null,
      "metadata": {
        "colab": {
          "base_uri": "https://localhost:8080/"
        },
        "id": "gnlFh9TgwEkp",
        "outputId": "10a84352-4c8a-454c-cde9-117b482f3598"
      },
      "outputs": [],
      "source": [
        "bagging = BaggingClassifier(base_estimator = model, n_estimators = 5, max_samples = 50, bootstrap = True)\n",
        "bagging.fit(X_train, y_train)\n",
        "print(f'Train score: {bagging.score(X_train, y_train)}')\n",
        "print(f'Test score: {bagging.score(X_test, y_test)}')"
      ]
    },
    {
      "cell_type": "markdown",
      "metadata": {
        "id": "_PSlfQmDwEkp"
      },
      "source": [
        "### Boosting - Adaboost Classifier"
      ]
    },
    {
      "cell_type": "code",
      "execution_count": null,
      "metadata": {
        "colab": {
          "base_uri": "https://localhost:8080/"
        },
        "id": "Qc3P3drtwEkq",
        "outputId": "10a51623-ea3e-4c07-8a4f-4930615e51c3"
      },
      "outputs": [],
      "source": [
        "adaboost = AdaBoostClassifier(base_estimator = gnb, n_estimators = 5, learning_rate = 0.1, random_state = 25210)\n",
        "adaboost.fit(X_train, y_train)\n",
        "print(f\"Train score: {adaboost.score(X_train, y_train)}\")\n",
        "print(f\"Test score: {adaboost.score(X_test, y_test)}\")"
      ]
    },
    {
      "cell_type": "code",
      "execution_count": null,
      "metadata": {
        "colab": {
          "base_uri": "https://localhost:8080/"
        },
        "id": "6_DonocfwEkq",
        "outputId": "dc28513c-ba8a-4006-f7d2-e98e4f1615ff"
      },
      "outputs": [],
      "source": [
        "adaboost = AdaBoostClassifier(base_estimator = model, n_estimators = 5, learning_rate = 0.1, random_state = 25210)\n",
        "adaboost.fit(X_train, y_train)\n",
        "print(f\"Train score: {adaboost.score(X_train, y_train)}\")\n",
        "print(f\"Test score: {adaboost.score(X_test, y_test)}\")"
      ]
    },
    {
      "cell_type": "markdown",
      "metadata": {
        "id": "0EoK82GjAahG"
      },
      "source": [
        "### Random Forest Classifier"
      ]
    },
    {
      "cell_type": "code",
      "execution_count": null,
      "metadata": {
        "colab": {
          "base_uri": "https://localhost:8080/"
        },
        "id": "ak5rds4dAahH",
        "outputId": "4ab70c14-71d5-4e54-8ed4-241322b6e2db"
      },
      "outputs": [],
      "source": [
        "clf = RandomForestClassifier(n_estimators = 100, max_features = \"auto\", random_state = 4627)\n",
        "clf.fit(X_train, y_train)\n",
        "print(f\"Train score: {clf.score(X_train, y_train)}\")\n",
        "print(f\"Test score: {clf.score(X_test, y_test)}\")"
      ]
    },
    {
      "cell_type": "markdown",
      "metadata": {
        "id": "8LVH_OfTOoek"
      },
      "source": [
        "# Mushroom Dataset"
      ]
    },
    {
      "cell_type": "markdown",
      "metadata": {
        "id": "FlWc6BNtbZV6"
      },
      "source": [
        "### Pre-processing"
      ]
    },
    {
      "cell_type": "code",
      "execution_count": null,
      "metadata": {
        "id": "lIZgQLR0EjUw"
      },
      "outputs": [],
      "source": [
        "dataset.append('Mushroom')"
      ]
    },
    {
      "cell_type": "code",
      "execution_count": null,
      "metadata": {
        "id": "Vx2dCWYeO6gP"
      },
      "outputs": [],
      "source": [
        "df = pd.read_csv('/content/drive/MyDrive/mushrooms.csv')"
      ]
    },
    {
      "cell_type": "code",
      "execution_count": null,
      "metadata": {
        "colab": {
          "base_uri": "https://localhost:8080/",
          "height": 508
        },
        "id": "C3WBXF2kO6gR",
        "outputId": "e57e0d80-288c-4759-9bcf-c781367f0743"
      },
      "outputs": [],
      "source": [
        "df.head(10)"
      ]
    },
    {
      "cell_type": "code",
      "execution_count": null,
      "metadata": {
        "colab": {
          "base_uri": "https://localhost:8080/"
        },
        "id": "OtNmYefHO6gS",
        "outputId": "9ca4c147-e334-4450-fce0-7a03236006d9"
      },
      "outputs": [],
      "source": [
        "df.size"
      ]
    },
    {
      "cell_type": "code",
      "execution_count": null,
      "metadata": {
        "colab": {
          "base_uri": "https://localhost:8080/"
        },
        "id": "lZ6yglgFO6gT",
        "outputId": "4cc69200-c8e6-42e3-8a90-6a6a5cbb7a61"
      },
      "outputs": [],
      "source": [
        "df.shape"
      ]
    },
    {
      "cell_type": "code",
      "execution_count": null,
      "metadata": {
        "colab": {
          "base_uri": "https://localhost:8080/",
          "height": 320
        },
        "id": "iYagySJCO6gU",
        "outputId": "3f258bd7-37d7-4e6b-984a-9f653203051c"
      },
      "outputs": [],
      "source": [
        "df.describe()"
      ]
    },
    {
      "cell_type": "code",
      "execution_count": null,
      "metadata": {
        "colab": {
          "base_uri": "https://localhost:8080/"
        },
        "id": "FNwUksvIO6gU",
        "outputId": "f4a8e5d2-9cf4-41f6-dbd6-a737d70e936f"
      },
      "outputs": [],
      "source": [
        "df.info"
      ]
    },
    {
      "cell_type": "code",
      "execution_count": null,
      "metadata": {
        "colab": {
          "base_uri": "https://localhost:8080/"
        },
        "id": "Mu--6ogdO6gV",
        "outputId": "a26b5da6-fabe-4326-cb66-a5855d84fd49"
      },
      "outputs": [],
      "source": [
        "for i in df.columns:\n",
        "  print(i)"
      ]
    },
    {
      "cell_type": "code",
      "execution_count": null,
      "metadata": {
        "colab": {
          "base_uri": "https://localhost:8080/"
        },
        "id": "RrnQLxjnPtvE",
        "outputId": "f793906f-1a0d-4fd0-c13b-191081a44dc7"
      },
      "outputs": [],
      "source": [
        "for i in df.columns:\n",
        "  print(df[i].unique())"
      ]
    },
    {
      "cell_type": "code",
      "execution_count": null,
      "metadata": {
        "id": "ParjOwu3Q7mY"
      },
      "outputs": [],
      "source": [
        "df.replace({'cap-shape': {'x': 0, 'b': 1, 's': 2, 'f': 3, 'k': 4, 'c': 5}, \n",
        "            'cap-surface': {'s': 0, 'y': 1, 'f': 2, 'g': 3}, \n",
        "            'cap-color': {'n': 0, 'y': 1, 'w': 2, 'g': 3, 'e': 4, 'p': 5, 'b': 6, 'u': 7, 'c': 8, 'r': 9},\n",
        "            'bruises': {'t': 0, 'f': 1},\n",
        "            'odor': {'p': 0, 'a': 1, 'l': 2, 'n': 3, 'f': 4, 'c': 5, 'y': 6, 's': 7, 'm': 8},\n",
        "            'gill-attachment': {'f': 0, 'a': 1},\n",
        "            'gill-spacing': {'c': 0, 'w': 1},\n",
        "            'gill-size': {'n': 0, 'b': 1},\n",
        "            'gill-color': {'k': 0, 'n': 1, 'g': 2, 'p': 3, 'w': 4, 'h': 5, 'u': 6, 'e': 7, 'b': 8, 'r': 9, 'y': 10, 'o': 11},\n",
        "            'stalk-shape': {'e': 0, 't': 1},\n",
        "            'stalk-root': {'e': 0, 'c': 1, 'b': 2, 'r': 3, '?': 4},\n",
        "            'stalk-surface-above-ring': {'s': 0, 'f': 1, 'k': 2, 'y': 3},\n",
        "            'stalk-surface-below-ring': {'s': 0, 'f': 1, 'k': 2, 'y': 3},\n",
        "            'stalk-color-above-ring': {'w': 0, 'g': 1, 'p': 2, 'n': 3, 'b': 4, 'e': 5, 'o': 6, 'c': 7, 'y': 8},\n",
        "            'stalk-color-below-ring': {'w': 0, 'g': 1, 'p': 2, 'n': 3, 'b': 4, 'e': 5, 'o': 6, 'c': 7, 'y': 8},\n",
        "            'veil-type': {'p': 0},\n",
        "            'veil-color': {'w': 0, 'n': 1, 'o': 2, 'y': 3},\n",
        "            'ring-number': {'o': 0, 't': 1, 'n': 2},\n",
        "            'ring-type': {'p': 0, 'e': 1, 'l': 2, 'f': 3, 'n': 4},\n",
        "            'spore-print-color': {'k': 0, 'n': 1, 'u': 2, 'h': 3, 'w': 4, 'r': 5, 'o': 6, 'y': 7, 'b': 8},\n",
        "            'population': {'s': 0, 'n': 1, 'a': 2, 'v': 3, 'y': 4, 'c': 5},\n",
        "            'habitat': {'u': 0, 'g': 1, 'm': 2, 'd': 3, 'p': 4, 'w': 5, 'l': 6},\n",
        "            'class': {'p': 0, 'e': 1}\n",
        "            }, inplace = True)"
      ]
    },
    {
      "cell_type": "code",
      "execution_count": null,
      "metadata": {
        "colab": {
          "base_uri": "https://localhost:8080/",
          "height": 352
        },
        "id": "WDhrnumkQfLI",
        "outputId": "c3d24031-f429-44df-c562-a14f7338f710"
      },
      "outputs": [],
      "source": [
        "df.head()"
      ]
    },
    {
      "cell_type": "code",
      "execution_count": null,
      "metadata": {
        "colab": {
          "base_uri": "https://localhost:8080/",
          "height": 352
        },
        "id": "Nw7cn04wO6gW",
        "outputId": "33cad165-1871-4510-e96b-d18850ea90d4"
      },
      "outputs": [],
      "source": [
        "X = pd.DataFrame(df, columns = ['cap-shape', 'cap-surface', 'cap-color', 'bruises', 'odor',\n",
        "       'gill-attachment', 'gill-spacing', 'gill-size', 'gill-color',\n",
        "       'stalk-shape', 'stalk-root', 'stalk-surface-above-ring',\n",
        "       'stalk-surface-below-ring', 'stalk-color-above-ring',\n",
        "       'stalk-color-below-ring', 'veil-type', 'veil-color', 'ring-number',\n",
        "       'ring-type', 'spore-print-color', 'population', 'habitat'])\n",
        "X.head()"
      ]
    },
    {
      "cell_type": "code",
      "execution_count": null,
      "metadata": {
        "colab": {
          "base_uri": "https://localhost:8080/"
        },
        "id": "VtZ5CylpO6gX",
        "outputId": "4d06a21c-d51b-491f-9915-ad16a94d690e"
      },
      "outputs": [],
      "source": [
        "y = df['class'].to_numpy()\n",
        "y"
      ]
    },
    {
      "cell_type": "code",
      "execution_count": null,
      "metadata": {
        "id": "a5r9TssnO6gX"
      },
      "outputs": [],
      "source": [
        "X_train, X_test, y_train, y_test = train_test_split(X, y, test_size = 0.3, random_state = 10242)"
      ]
    },
    {
      "cell_type": "markdown",
      "metadata": {
        "id": "jnK-zjIjbZV7"
      },
      "source": [
        "### Gaussian Naive Bayes"
      ]
    },
    {
      "cell_type": "code",
      "execution_count": null,
      "metadata": {
        "colab": {
          "base_uri": "https://localhost:8080/"
        },
        "id": "qXlpHiFEO6gY",
        "outputId": "bc82b8d8-e6ef-4799-e24d-b65850957328"
      },
      "outputs": [],
      "source": [
        "gnb = GaussianNB()\n",
        "gnb.fit(X_train, y_train)\n",
        "y_pred = gnb.predict(X_test)\n",
        "acc = accuracy_score(y_pred, y_test)\n",
        "gnb_acc.append(acc)\n",
        "print(f'Accuracy using Gaussian Naive Bayes: {acc}')"
      ]
    },
    {
      "cell_type": "code",
      "execution_count": null,
      "metadata": {
        "colab": {
          "base_uri": "https://localhost:8080/",
          "height": 279
        },
        "id": "D-PZmjdZO6gZ",
        "outputId": "d3e4ed6a-a6c4-4417-b6d3-5d82a9cb5696"
      },
      "outputs": [],
      "source": [
        "matrix = metrics.confusion_matrix(y_test, y_pred)\n",
        "cm_display = metrics.ConfusionMatrixDisplay(confusion_matrix = matrix, display_labels = ['p', 'e'])\n",
        "\n",
        "cm_display.plot()\n",
        "plt.show()"
      ]
    },
    {
      "cell_type": "code",
      "execution_count": null,
      "metadata": {
        "colab": {
          "base_uri": "https://localhost:8080/",
          "height": 265
        },
        "id": "xSoK3wyTBHjD",
        "outputId": "f79d13e9-f0de-4e14-9e71-5d66e57f1405"
      },
      "outputs": [],
      "source": [
        "y_pred_proba = gnb.predict_proba(X_test)[::,1]\n",
        "fpr, tpr, _ = metrics.roc_curve(y_test, y_pred_proba)\n",
        "auc = metrics.roc_auc_score(y_test, y_pred_proba)\n",
        "plt.plot(fpr, tpr, label = \"Data 1, auc=\" + str(auc))\n",
        "plt.legend(loc = 4)\n",
        "plt.show()"
      ]
    },
    {
      "cell_type": "markdown",
      "metadata": {
        "id": "nmVJ4TGUbZV8"
      },
      "source": [
        "### Decision Tree"
      ]
    },
    {
      "cell_type": "code",
      "execution_count": null,
      "metadata": {
        "colab": {
          "base_uri": "https://localhost:8080/"
        },
        "id": "hh_oZM-SO6ga",
        "outputId": "3baca8f3-7f57-4e76-eedb-4b0555e203ae"
      },
      "outputs": [],
      "source": [
        "model = tree.DecisionTreeClassifier()\n",
        "model = model.fit(X_train, y_train)\n",
        " \n",
        "predicted_value = model.predict(X_test)\n",
        "acc = accuracy_score(predicted_value, y_test)\n",
        "tree_acc.append(acc)\n",
        "print(f'Accuracy using Decision Tree: {acc}')"
      ]
    },
    {
      "cell_type": "code",
      "execution_count": null,
      "metadata": {
        "colab": {
          "base_uri": "https://localhost:8080/",
          "height": 279
        },
        "id": "HGeXADcQO6gb",
        "outputId": "c69f89a3-a8f0-4073-edce-0a13c518ecbc"
      },
      "outputs": [],
      "source": [
        "tree_matrix = metrics.confusion_matrix(y_test, y_pred)\n",
        "tree_cm_display = metrics.ConfusionMatrixDisplay(confusion_matrix = tree_matrix, display_labels = ['p', 'e'])\n",
        "\n",
        "tree_cm_display.plot()\n",
        "plt.show()"
      ]
    },
    {
      "cell_type": "code",
      "execution_count": null,
      "metadata": {
        "colab": {
          "base_uri": "https://localhost:8080/",
          "height": 265
        },
        "id": "6f-cZqhuBHjG",
        "outputId": "f6234f38-2387-46be-ffaa-9eae5d7395df"
      },
      "outputs": [],
      "source": [
        "y_pred_proba = model.predict_proba(X_test)[::,1]\n",
        "fpr, tpr, _ = metrics.roc_curve(y_test, y_pred_proba)\n",
        "auc = metrics.roc_auc_score(y_test, y_pred_proba)\n",
        "plt.plot(fpr, tpr, label = \"Data 1, auc=\" + str(auc))\n",
        "plt.legend(loc = 4)\n",
        "plt.show()"
      ]
    },
    {
      "cell_type": "markdown",
      "metadata": {
        "id": "W0VAy1mtbZV8"
      },
      "source": [
        "### K-Fold Cross Validation"
      ]
    },
    {
      "cell_type": "code",
      "execution_count": null,
      "metadata": {
        "colab": {
          "base_uri": "https://localhost:8080/",
          "height": 3697
        },
        "id": "c-Iztns1O6gc",
        "outputId": "6ce3de98-f4e6-4624-8963-5a1973f17bad"
      },
      "outputs": [],
      "source": [
        "final_acc = 0\n",
        "k_folds = KFold(n_splits = 10, shuffle = True, random_state = 2002)\n",
        "for train_index, test_index in k_folds.split(X):\n",
        "  X_train, X_test = X.iloc[train_index, :], X.iloc[test_index, :]\n",
        "  y_train, y_test = y[train_index], y[test_index]\n",
        "  rfc_model = GaussianNB()\n",
        "  rfc_model.fit(X_train, y_train)\n",
        "  test_preds = rfc_model.predict(X_test)\n",
        "  test_accuracy = accuracy_score(y_test, test_preds)\n",
        "  final_acc += test_accuracy\n",
        "  test_confusion_matrix = metrics.confusion_matrix(y_test, test_preds)\n",
        "  print(f'Accuracy Score: {test_accuracy}')\n",
        "  print(f'Confusion Matrix: \\n{test_confusion_matrix}')\n",
        "  k_fold_cm_display = metrics.ConfusionMatrixDisplay(confusion_matrix = test_confusion_matrix, display_labels = ['p', 'e'])\n",
        "  k_fold_cm_display.plot()\n",
        "  plt.show()\n",
        "  print('\\n')\n",
        "\n",
        "print(f'Average accuracy: {final_acc / 10}')"
      ]
    },
    {
      "cell_type": "code",
      "execution_count": null,
      "metadata": {
        "id": "LtmnY1ZIO6ge"
      },
      "outputs": [],
      "source": []
    },
    {
      "cell_type": "code",
      "execution_count": null,
      "metadata": {
        "colab": {
          "base_uri": "https://localhost:8080/",
          "height": 3693
        },
        "id": "Ak7wEBOeO6ge",
        "outputId": "9a5feae4-d29c-466f-a096-82a60310c354"
      },
      "outputs": [],
      "source": [
        "final = 0\n",
        "k_folds = KFold(n_splits = 10, shuffle = True, random_state = 2002)\n",
        "for train_index, test_index in k_folds.split(X):\n",
        "  X_train, X_test = X.iloc[train_index, :], X.iloc[test_index, :]\n",
        "  y_train, y_test = y[train_index], y[test_index]\n",
        "  rfc_model = tree.DecisionTreeClassifier()\n",
        "  rfc_model.fit(X_train, y_train)\n",
        "  test_preds = rfc_model.predict(X_test)\n",
        "  test_accuracy = accuracy_score(y_test, test_preds)\n",
        "  final += test_accuracy\n",
        "  test_confusion_matrix = metrics.confusion_matrix(y_test, test_preds)\n",
        "  print(f'Accuracy Score: {test_accuracy}')\n",
        "  print(f'Confusion Matrix: \\n{test_confusion_matrix}')\n",
        "  k_fold_cm_display = metrics.ConfusionMatrixDisplay(confusion_matrix = test_confusion_matrix, display_labels = ['p', 'e'])\n",
        "  k_fold_cm_display.plot()\n",
        "  plt.show()\n",
        "  print('\\n')\n",
        "\n",
        "print(f'Average accuracy: {final / 10}')"
      ]
    },
    {
      "cell_type": "markdown",
      "metadata": {
        "id": "JCLu8PCrwUqc"
      },
      "source": [
        "### Bagging Classifier"
      ]
    },
    {
      "cell_type": "code",
      "execution_count": null,
      "metadata": {
        "colab": {
          "base_uri": "https://localhost:8080/"
        },
        "id": "KPQ7b6Y8wUqd",
        "outputId": "f10dd9dd-52fc-4e3c-ef8c-7ceaf9ea0637"
      },
      "outputs": [],
      "source": [
        "bagging = BaggingClassifier(base_estimator = gnb, n_estimators = 5, max_samples = 50, bootstrap = True)\n",
        "bagging.fit(X_train, y_train)\n",
        "print(f'Train score: {bagging.score(X_train, y_train)}')\n",
        "print(f'Test score: {bagging.score(X_test, y_test)}')"
      ]
    },
    {
      "cell_type": "code",
      "execution_count": null,
      "metadata": {
        "colab": {
          "base_uri": "https://localhost:8080/"
        },
        "id": "_taJXEbSwUqe",
        "outputId": "24c20094-b876-4414-dfa2-e9fe425a31e4"
      },
      "outputs": [],
      "source": [
        "bagging = BaggingClassifier(base_estimator = model, n_estimators = 5, max_samples = 50, bootstrap = True)\n",
        "bagging.fit(X_train, y_train)\n",
        "print(f'Train score: {bagging.score(X_train, y_train)}')\n",
        "print(f'Test score: {bagging.score(X_test, y_test)}')"
      ]
    },
    {
      "cell_type": "markdown",
      "metadata": {
        "id": "PSwiAb2nwUqe"
      },
      "source": [
        "### Boosting - Adaboost Classifier"
      ]
    },
    {
      "cell_type": "code",
      "execution_count": null,
      "metadata": {
        "colab": {
          "base_uri": "https://localhost:8080/"
        },
        "id": "Ivgas-9VwUqe",
        "outputId": "151bdccb-6acd-4e96-fe0f-5119f585c96b"
      },
      "outputs": [],
      "source": [
        "adaboost = AdaBoostClassifier(base_estimator = gnb, n_estimators = 5, learning_rate = 0.1, random_state = 25210)\n",
        "adaboost.fit(X_train, y_train)\n",
        "print(f\"Train score: {adaboost.score(X_train, y_train)}\")\n",
        "print(f\"Test score: {adaboost.score(X_test, y_test)}\")"
      ]
    },
    {
      "cell_type": "code",
      "execution_count": null,
      "metadata": {
        "colab": {
          "base_uri": "https://localhost:8080/"
        },
        "id": "jf9qrhy8wUqf",
        "outputId": "737296a2-ce95-490e-ba1e-1a5fa6a4b822"
      },
      "outputs": [],
      "source": [
        "adaboost = AdaBoostClassifier(base_estimator = model, n_estimators = 5, learning_rate = 0.1, random_state = 25210)\n",
        "adaboost.fit(X_train, y_train)\n",
        "print(f\"Train score: {adaboost.score(X_train, y_train)}\")\n",
        "print(f\"Test score: {adaboost.score(X_test, y_test)}\")"
      ]
    },
    {
      "cell_type": "markdown",
      "metadata": {
        "id": "Kk-hOj5eAjrI"
      },
      "source": [
        "### Random Forest Classifier"
      ]
    },
    {
      "cell_type": "code",
      "execution_count": null,
      "metadata": {
        "colab": {
          "base_uri": "https://localhost:8080/"
        },
        "id": "Sac2sk_3AjrJ",
        "outputId": "5acb9302-01fe-48e8-94ff-d70021caeddb"
      },
      "outputs": [],
      "source": [
        "clf = RandomForestClassifier(n_estimators = 100, max_features = \"auto\", random_state = 4627)\n",
        "clf.fit(X_train, y_train)\n",
        "print(f\"Train score: {clf.score(X_train, y_train)}\")\n",
        "print(f\"Test score: {clf.score(X_test, y_test)}\")"
      ]
    },
    {
      "cell_type": "markdown",
      "metadata": {
        "id": "YTthYX6EX0DF"
      },
      "source": [
        "# Customer Dataset"
      ]
    },
    {
      "cell_type": "markdown",
      "metadata": {
        "id": "o3bileJMbb0R"
      },
      "source": [
        "### Pre-processing"
      ]
    },
    {
      "cell_type": "code",
      "execution_count": null,
      "metadata": {
        "id": "LQsq4Vo5E-Uf"
      },
      "outputs": [],
      "source": [
        "dataset.append('Customer')"
      ]
    },
    {
      "cell_type": "code",
      "execution_count": null,
      "metadata": {
        "id": "y3_PgnYlYF6M"
      },
      "outputs": [],
      "source": [
        "df = pd.read_csv('/content/drive/MyDrive/Customer_Behaviour.csv')"
      ]
    },
    {
      "cell_type": "code",
      "execution_count": null,
      "metadata": {
        "colab": {
          "base_uri": "https://localhost:8080/",
          "height": 363
        },
        "id": "aZ_iHu2CYF6O",
        "outputId": "18a5177c-d874-4cd9-db1f-311b07d4f30d"
      },
      "outputs": [],
      "source": [
        "df.head(10)"
      ]
    },
    {
      "cell_type": "code",
      "execution_count": null,
      "metadata": {
        "colab": {
          "base_uri": "https://localhost:8080/"
        },
        "id": "PMh09RdMYF6P",
        "outputId": "703bed22-b17f-4856-b36d-38baf1228da9"
      },
      "outputs": [],
      "source": [
        "df.size"
      ]
    },
    {
      "cell_type": "code",
      "execution_count": null,
      "metadata": {
        "colab": {
          "base_uri": "https://localhost:8080/"
        },
        "id": "Khe4MUM1YF6Q",
        "outputId": "44cb0aac-390d-42fb-8a8b-c6d45b88c6db"
      },
      "outputs": [],
      "source": [
        "df.shape"
      ]
    },
    {
      "cell_type": "code",
      "execution_count": null,
      "metadata": {
        "colab": {
          "base_uri": "https://localhost:8080/",
          "height": 300
        },
        "id": "wJBlhVZtYF6R",
        "outputId": "b488d3a4-bd8e-43b6-c8f5-82784a21bdb1"
      },
      "outputs": [],
      "source": [
        "df.describe()"
      ]
    },
    {
      "cell_type": "code",
      "execution_count": null,
      "metadata": {
        "colab": {
          "base_uri": "https://localhost:8080/"
        },
        "id": "CmLY3Kv_YF6S",
        "outputId": "1d6c4421-6e78-403b-bc85-d3a8b89cdfd8"
      },
      "outputs": [],
      "source": [
        "df.info"
      ]
    },
    {
      "cell_type": "code",
      "execution_count": null,
      "metadata": {
        "colab": {
          "base_uri": "https://localhost:8080/"
        },
        "id": "rFLVwRVkYF6T",
        "outputId": "7edc96b5-8e33-4539-ec69-673fd438547d"
      },
      "outputs": [],
      "source": [
        "for i in df.columns:\n",
        "  print(i)"
      ]
    },
    {
      "cell_type": "code",
      "execution_count": null,
      "metadata": {
        "colab": {
          "base_uri": "https://localhost:8080/",
          "height": 424
        },
        "id": "5vZVIMy53f4V",
        "outputId": "867e8fc8-28e7-405d-991d-9436c8138bc7"
      },
      "outputs": [],
      "source": [
        "df.drop('User ID', axis = 1)"
      ]
    },
    {
      "cell_type": "code",
      "execution_count": null,
      "metadata": {
        "id": "jlI8EFGx6EES"
      },
      "outputs": [],
      "source": [
        "df.replace(to_replace = 'Male', value = 0, inplace = True)\n",
        "df.replace(to_replace =  'Female', value = 1, inplace = True)"
      ]
    },
    {
      "cell_type": "code",
      "execution_count": null,
      "metadata": {
        "colab": {
          "base_uri": "https://localhost:8080/",
          "height": 206
        },
        "id": "mghjQ7P3YF6W",
        "outputId": "6cafefe2-2b9b-40f1-d1b6-55a6da8ae9ac"
      },
      "outputs": [],
      "source": [
        "X = pd.DataFrame(df, columns = ['Gender', 'Age', 'EstimatedSalary'])\n",
        "X.head()"
      ]
    },
    {
      "cell_type": "code",
      "execution_count": null,
      "metadata": {
        "colab": {
          "base_uri": "https://localhost:8080/"
        },
        "id": "mzvI4L-5YF6X",
        "outputId": "509586d5-f251-4658-b351-d71d952d1261"
      },
      "outputs": [],
      "source": [
        "y = df['Purchased'].to_numpy()\n",
        "y"
      ]
    },
    {
      "cell_type": "code",
      "execution_count": null,
      "metadata": {
        "id": "-WE9SXLxYF6Y"
      },
      "outputs": [],
      "source": [
        "X_train, X_test, y_train, y_test = train_test_split(X, y, test_size = 0.3, random_state = 10242)"
      ]
    },
    {
      "cell_type": "markdown",
      "metadata": {
        "id": "2zizEpGXbb0S"
      },
      "source": [
        "### Gaussian Naive Bayes"
      ]
    },
    {
      "cell_type": "code",
      "execution_count": null,
      "metadata": {
        "colab": {
          "base_uri": "https://localhost:8080/"
        },
        "id": "2CktdprSYF6Z",
        "outputId": "9103ab41-4b92-4b6a-ebc7-49e4a7a28e0a"
      },
      "outputs": [],
      "source": [
        "gnb = GaussianNB()\n",
        "gnb.fit(X_train, y_train)\n",
        "y_pred = gnb.predict(X_test)\n",
        "acc = accuracy_score(y_pred, y_test)\n",
        "gnb_acc.append(acc)\n",
        "print(f'Accuracy using Gaussian Naive Bayes: {acc}')"
      ]
    },
    {
      "cell_type": "code",
      "execution_count": null,
      "metadata": {
        "colab": {
          "base_uri": "https://localhost:8080/",
          "height": 279
        },
        "id": "5vXnvv29YF6a",
        "outputId": "96b625df-c49a-4e7c-bbb1-ce3e58628ed1"
      },
      "outputs": [],
      "source": [
        "matrix = metrics.confusion_matrix(y_test, y_pred)\n",
        "cm_display = metrics.ConfusionMatrixDisplay(confusion_matrix = matrix, display_labels = ['0', '1'])\n",
        "\n",
        "cm_display.plot()\n",
        "plt.show()"
      ]
    },
    {
      "cell_type": "code",
      "execution_count": null,
      "metadata": {
        "colab": {
          "base_uri": "https://localhost:8080/",
          "height": 265
        },
        "id": "gHWuSdq7Bvxf",
        "outputId": "018f2ffd-3bc1-4710-b69b-01bccce7b46c"
      },
      "outputs": [],
      "source": [
        "y_pred_proba = gnb.predict_proba(X_test)[::,1]\n",
        "fpr, tpr, _ = metrics.roc_curve(y_test, y_pred_proba)\n",
        "auc = metrics.roc_auc_score(y_test, y_pred_proba)\n",
        "plt.plot(fpr, tpr, label = \"Data 1, auc=\" + str(auc))\n",
        "plt.legend(loc = 4)\n",
        "plt.show()"
      ]
    },
    {
      "cell_type": "markdown",
      "metadata": {
        "id": "11OMzOI0bb0S"
      },
      "source": [
        "### Decision Tree"
      ]
    },
    {
      "cell_type": "code",
      "execution_count": null,
      "metadata": {
        "colab": {
          "base_uri": "https://localhost:8080/"
        },
        "id": "AL9uuO_CYF6b",
        "outputId": "a4f1546b-a80f-479a-8461-edda6e2b7b91"
      },
      "outputs": [],
      "source": [
        "model = tree.DecisionTreeClassifier()\n",
        "model = model.fit(X_train, y_train)\n",
        " \n",
        "predicted_value = model.predict(X_test)\n",
        "acc = accuracy_score(predicted_value, y_test)\n",
        "tree_acc.append(acc)\n",
        "print(f'Accuracy using Decision Tree: {acc}')"
      ]
    },
    {
      "cell_type": "code",
      "execution_count": null,
      "metadata": {
        "colab": {
          "base_uri": "https://localhost:8080/",
          "height": 279
        },
        "id": "mswxPpptYF6b",
        "outputId": "997097df-3727-4cd6-fc4f-a304efd7a25e"
      },
      "outputs": [],
      "source": [
        "tree_matrix = metrics.confusion_matrix(y_test, y_pred)\n",
        "tree_cm_display = metrics.ConfusionMatrixDisplay(confusion_matrix = tree_matrix, display_labels = ['0', '1'])\n",
        "\n",
        "tree_cm_display.plot()\n",
        "plt.show()"
      ]
    },
    {
      "cell_type": "code",
      "execution_count": null,
      "metadata": {
        "colab": {
          "base_uri": "https://localhost:8080/",
          "height": 265
        },
        "id": "DCh_izgaB1Gk",
        "outputId": "963ece02-d744-4d91-b9ad-b28edf56b837"
      },
      "outputs": [],
      "source": [
        "y_pred_proba = model.predict_proba(X_test)[::,1]\n",
        "fpr, tpr, _ = metrics.roc_curve(y_test, y_pred_proba)\n",
        "auc = metrics.roc_auc_score(y_test, y_pred_proba)\n",
        "plt.plot(fpr, tpr, label = \"Data 1, auc=\" + str(auc))\n",
        "plt.legend(loc = 4)\n",
        "plt.show()"
      ]
    },
    {
      "cell_type": "markdown",
      "metadata": {
        "id": "K0r3hRQcbb0T"
      },
      "source": [
        "### K-Fold Cross Validation"
      ]
    },
    {
      "cell_type": "code",
      "execution_count": null,
      "metadata": {
        "colab": {
          "base_uri": "https://localhost:8080/",
          "height": 3697
        },
        "id": "UrjO0HinYF6c",
        "outputId": "859f3000-a012-4de2-afea-30de9de47f46"
      },
      "outputs": [],
      "source": [
        "final_acc = 0\n",
        "k_folds = KFold(n_splits = 10, shuffle = True, random_state = 2002)\n",
        "for train_index, test_index in k_folds.split(X):\n",
        "  X_train, X_test = X.iloc[train_index, :], X.iloc[test_index, :]\n",
        "  y_train, y_test = y[train_index], y[test_index]\n",
        "  rfc_model = GaussianNB()\n",
        "  rfc_model.fit(X_train, y_train)\n",
        "  test_preds = rfc_model.predict(X_test)\n",
        "  test_accuracy = accuracy_score(y_test, test_preds)\n",
        "  final_acc += test_accuracy\n",
        "  test_confusion_matrix = metrics.confusion_matrix(y_test, test_preds)\n",
        "  print(f'Accuracy Score: {test_accuracy}')\n",
        "  print(f'Confusion Matrix: \\n{test_confusion_matrix}')\n",
        "  k_fold_cm_display = metrics.ConfusionMatrixDisplay(confusion_matrix = test_confusion_matrix, display_labels = ['0', '1'])\n",
        "  k_fold_cm_display.plot()\n",
        "  plt.show()\n",
        "  print('\\n')\n",
        "\n",
        "print(f'Average accuracy: {final_acc / 10}')"
      ]
    },
    {
      "cell_type": "code",
      "execution_count": null,
      "metadata": {
        "id": "mLdGRVO8YF6c"
      },
      "outputs": [],
      "source": []
    },
    {
      "cell_type": "code",
      "execution_count": null,
      "metadata": {
        "colab": {
          "base_uri": "https://localhost:8080/",
          "height": 3713
        },
        "id": "A7NdcNiGYF6c",
        "outputId": "66405983-eabf-48dd-81d2-6ef47172ced0"
      },
      "outputs": [],
      "source": [
        "final = 0\n",
        "k_folds = KFold(n_splits = 10, shuffle = True, random_state = 2002)\n",
        "for train_index, test_index in k_folds.split(X):\n",
        "  X_train, X_test = X.iloc[train_index, :], X.iloc[test_index, :]\n",
        "  y_train, y_test = y[train_index], y[test_index]\n",
        "  rfc_model = tree.DecisionTreeClassifier()\n",
        "  rfc_model.fit(X_train, y_train)\n",
        "  test_preds = rfc_model.predict(X_test)\n",
        "  test_accuracy = accuracy_score(y_test, test_preds)\n",
        "  final += test_accuracy\n",
        "  test_confusion_matrix = metrics.confusion_matrix(y_test, test_preds)\n",
        "  print(f'Accuracy Score: {test_accuracy}')\n",
        "  print(f'Confusion Matrix: \\n{test_confusion_matrix}')\n",
        "  k_fold_cm_display = metrics.ConfusionMatrixDisplay(confusion_matrix = test_confusion_matrix, display_labels = ['0', '1'])\n",
        "  k_fold_cm_display.plot()\n",
        "  plt.show()\n",
        "  print('\\n')\n",
        "\n",
        "print(f'Average accuracy: {final / 10}')"
      ]
    },
    {
      "cell_type": "markdown",
      "metadata": {
        "id": "WCE1j0efw3K6"
      },
      "source": [
        "### Bagging Classifier"
      ]
    },
    {
      "cell_type": "code",
      "execution_count": null,
      "metadata": {
        "colab": {
          "base_uri": "https://localhost:8080/"
        },
        "id": "9RWYJfeww3K6",
        "outputId": "bef301e6-bc77-4bb5-85d8-45a0e833d92d"
      },
      "outputs": [],
      "source": [
        "bagging = BaggingClassifier(base_estimator = gnb, n_estimators = 5, max_samples = 50, bootstrap=True)\n",
        "bagging.fit(X_train, y_train)\n",
        "print(f'Train score: {bagging.score(X_train, y_train)}')\n",
        "print(f'Test score: {bagging.score(X_test, y_test)}')"
      ]
    },
    {
      "cell_type": "code",
      "execution_count": null,
      "metadata": {
        "colab": {
          "base_uri": "https://localhost:8080/"
        },
        "id": "Vhlur7SOw3K7",
        "outputId": "27104722-6ab9-4afe-9049-46d383e85062"
      },
      "outputs": [],
      "source": [
        "bagging = BaggingClassifier(base_estimator = model, n_estimators = 5, max_samples = 50, bootstrap=True)\n",
        "bagging.fit(X_train, y_train)\n",
        "print(f'Train score: {bagging.score(X_train, y_train)}')\n",
        "print(f'Test score: {bagging.score(X_test, y_test)}')"
      ]
    },
    {
      "cell_type": "markdown",
      "metadata": {
        "id": "nuLGjheyw3K7"
      },
      "source": [
        "### Boosting - Adaboost Classifier"
      ]
    },
    {
      "cell_type": "code",
      "execution_count": null,
      "metadata": {
        "colab": {
          "base_uri": "https://localhost:8080/"
        },
        "id": "NOJRDmd8w3K7",
        "outputId": "0f1230e0-666e-4175-a553-1fede2074d44"
      },
      "outputs": [],
      "source": [
        "adaboost = AdaBoostClassifier(base_estimator = gnb, n_estimators = 5, learning_rate = 0.1, random_state = 25210)\n",
        "adaboost.fit(X_train, y_train)\n",
        "print(f\"Train score: {adaboost.score(X_train, y_train)}\")\n",
        "print(f\"Test score: {adaboost.score(X_test, y_test)}\")"
      ]
    },
    {
      "cell_type": "code",
      "execution_count": null,
      "metadata": {
        "colab": {
          "base_uri": "https://localhost:8080/"
        },
        "id": "1VPX-FMKw3K8",
        "outputId": "9e3abe45-98cb-4984-d4e3-282850f63686"
      },
      "outputs": [],
      "source": [
        "adaboost = AdaBoostClassifier(base_estimator = model, n_estimators = 5, learning_rate = 0.1, random_state = 25210)\n",
        "adaboost.fit(X_train, y_train)\n",
        "print(f\"Train score: {adaboost.score(X_train, y_train)}\")\n",
        "print(f\"Test score: {adaboost.score(X_test, y_test)}\")"
      ]
    },
    {
      "cell_type": "markdown",
      "metadata": {
        "id": "mA-DNeOkFTBE"
      },
      "source": [
        "## Comparison of Dataset Accuracies"
      ]
    },
    {
      "cell_type": "code",
      "execution_count": null,
      "metadata": {
        "colab": {
          "base_uri": "https://localhost:8080/",
          "height": 404
        },
        "id": "60hmjm4vFP-X",
        "outputId": "d992307a-3f7b-4e4d-b16e-bce993deecc6"
      },
      "outputs": [],
      "source": [
        "N = 3\n",
        "ind = np.arange(len(dataset[::1]))\n",
        "width = 0.3\n",
        "\n",
        "fig = plt.figure()\n",
        "ax = fig.add_subplot(111)\n",
        "\n",
        "rects1 = ax.bar(ind, gnb_acc, width, color = 'r')\n",
        "rects2 = ax.bar(ind+width, tree_acc, width, color = 'g')\n",
        "\n",
        "ax.set_ylabel('Accuracy')\n",
        "ax.set_xlabel('Dataset')\n",
        "ax.set_xticks(ind + width - 0.155)\n",
        "ax.set_xticklabels(dataset)\n",
        "ax.legend((rects1[0], rects2[0]), ('Gaussian Naive Bayes', 'Decision Tree') )\n",
        "\n",
        "ax.set_title('Accuracies in Different Dataset')\n",
        "fig.set_figwidth(10)\n",
        "fig.set_figheight(6)\n",
        "\n",
        "plt.show()"
      ]
    }
  ],
  "metadata": {
    "colab": {
      "provenance": [],
      "toc_visible": true
    },
    "kernelspec": {
      "display_name": "Python 3",
      "language": "python",
      "name": "python3"
    },
    "language_info": {
      "codemirror_mode": {
        "name": "ipython",
        "version": 3
      },
      "file_extension": ".py",
      "mimetype": "text/x-python",
      "name": "python",
      "nbconvert_exporter": "python",
      "pygments_lexer": "ipython3",
      "version": "3.10.2"
    },
    "vscode": {
      "interpreter": {
        "hash": "b9e6cb15b86ac2757c8003d41fac53f163cb90e88454a41bdcc40095a21b5065"
      }
    }
  },
  "nbformat": 4,
  "nbformat_minor": 0
}
