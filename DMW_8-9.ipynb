{
  "nbformat": 4,
  "nbformat_minor": 0,
  "metadata": {
    "colab": {
      "provenance": []
    },
    "kernelspec": {
      "name": "python3",
      "display_name": "Python 3"
    },
    "language_info": {
      "name": "python"
    }
  },
  "cells": [
    {
      "cell_type": "markdown",
      "source": [
        "# Pagerank Algorithm"
      ],
      "metadata": {
        "id": "crRDLFqlXOsx"
      }
    },
    {
      "cell_type": "code",
      "source": [
        "import numpy as np\n",
        "\n",
        "def page_rank_algorithm(graph,damping_factor):\n",
        "    outgoing = dict()\n",
        "    incoming_nodes = dict()\n",
        "    coefficients = dict()\n",
        "    for i in range(len(graph)):\n",
        "        outgoing[i]=0\n",
        "\n",
        "    for i,node in enumerate(graph):\n",
        "        for edge in node:\n",
        "            if edge:\n",
        "                outgoing[i] += 1\n",
        "\n",
        "    for i in range(len(graph)):\n",
        "        temp=[]\n",
        "        for node in graph:\n",
        "            if node[i]:\n",
        "                temp.append(node)\n",
        "        incoming_nodes[i] = temp\n",
        "\n",
        "    for i,node in enumerate(graph):\n",
        "        temp = []\n",
        "        for j,other_node in enumerate(graph):\n",
        "            if other_node in incoming_nodes[i]:\n",
        "                temp.append(damping_factor*(1.0/outgoing[j]))\n",
        "            elif i == j:\n",
        "                temp.append(-1)\n",
        "            else:\n",
        "                temp.append(0)\n",
        "        coefficients[i] = temp\n",
        "\n",
        "    coefficients_list = []\n",
        "    for key,value in coefficients.items():\n",
        "        coefficients_list.append(value)\n",
        "\n",
        "    constant_matrix = []\n",
        "    for i in range(len(graph)):\n",
        "        constant_matrix.append(damping_factor-1)\n",
        "\n",
        "    pageranks = np.linalg.solve(np.array(coefficients_list),np.array(constant_matrix))\n",
        "    print()\n",
        "    for i,rank in enumerate(pageranks):\n",
        "        print('Page Rank of {} is {:.4f}'.format(chr(65+i), rank))\n",
        "\n",
        "def main():\n",
        "    n = int(input('Enter the number of nodes : '))\n",
        "    d = float(input('Enter the damping factor : '))\n",
        "    graph = []\n",
        "    print('Enter Adjacency Matrix with terms separated by a space : ')\n",
        "    for i in range(n):\n",
        "        temp_list = input().split(' ')\n",
        "        graph.append(list(map(int,temp_list)))\n",
        "    page_rank_algorithm(graph,d)\n",
        "\n",
        "main()"
      ],
      "metadata": {
        "colab": {
          "base_uri": "https://localhost:8080/"
        },
        "id": "WXK0blltZw9f",
        "outputId": "90ace7bb-3e50-43cb-cd75-06a53bf0f11c"
      },
      "execution_count": null,
      "outputs": [
        {
          "output_type": "stream",
          "name": "stdout",
          "text": [
            "Enter the number of nodes : 4\n",
            "Enter the damping factor : 0.6\n",
            "Enter Adjacency Matrix with terms separated by a space : \n",
            "0 1 1 0\n",
            "1 0 1 0\n",
            "1 1 0 1\n",
            "0 0 1 0\n",
            "\n",
            "Page Rank of A is 0.9677\n",
            "Page Rank of B is 0.9677\n",
            "Page Rank of C is 1.3871\n",
            "Page Rank of D is 0.6774\n"
          ]
        }
      ]
    },
    {
      "cell_type": "markdown",
      "source": [
        "# HITS Algorithm"
      ],
      "metadata": {
        "id": "h0oXaBOGXV5x"
      }
    },
    {
      "cell_type": "code",
      "source": [
        "import networkx as nx\n",
        "import matplotlib.pyplot as plt\n",
        "\n",
        "G = nx.DiGraph()\n",
        "\n",
        "connections = []\n",
        "edges = int(input('Enter the number of edges: '))\n",
        "print('Enter the connection between the nodes: ')\n",
        "for i in range(edges):\n",
        "  print(f'Edge {i + 1}: ')\n",
        "  start = input('Enter start node: ')\n",
        "  end = input('Enter end node: ')\n",
        "  connections.append((start, end))\n",
        "print()\n",
        "\n",
        "# ('A', 'D'), ('B', 'C'), ('B', 'E'), ('C', 'A'),\n",
        "#                   ('D', 'C'), ('E', 'D'), ('E', 'B'), ('E', 'F'),\n",
        "#                   ('E', 'C'), ('F', 'C'), ('F', 'H'), ('G', 'A'),\n",
        "#                   ('G', 'C'), ('H', 'A')\n",
        "\n",
        "G.add_edges_from(connections)\n",
        "plt.figure(figsize = (10, 10))\n",
        "nx.draw_networkx(G, with_labels = True)\n",
        "\n",
        "hubs, authorities = nx.hits(G, max_iter = 50, normalized = True)\n",
        "\n",
        "print(\"Hub Scores: \")\n",
        "for key, value in hubs.items():\n",
        "  print(f'{key}: {value}')\n",
        "print()\n",
        "\n",
        "print(\"Authority Scores: \")\n",
        "for key, value in authorities.items():\n",
        "  print(f'{key}: {value}')"
      ],
      "metadata": {
        "id": "Uu1O2bksXNwE"
      },
      "execution_count": null,
      "outputs": []
    }
  ]
}